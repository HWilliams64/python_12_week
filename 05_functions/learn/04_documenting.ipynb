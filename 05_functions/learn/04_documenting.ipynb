{
 "cells": [
  {
   "attachments": {},
   "cell_type": "markdown",
   "metadata": {},
   "source": [
    "# Function Type Hints and Documenting\n",
    "\n",
    "Python is a dynamically-typed language, which means you don't have to declare\n",
    "the type of a variable when you create it. However, when you're writing complex\n",
    "programs, you might find it helpful to specify what data type a function expects\n",
    "or what data type a function will return. This is where type hints come in! \n",
    "\n",
    "In addition, good documentation is essential to ensure that other people can\n",
    "understand and use your code. One way to document your Python functions is by\n",
    "using docstrings. In this tutorial, we'll cover type hints and docstrings. "
   ]
  },
  {
   "attachments": {},
   "cell_type": "markdown",
   "metadata": {},
   "source": [
    "## Benefits of Type Hints\n",
    "\n",
    "Type hints help make your code more readable and self-explanatory, allowing others (and future you) to better understand the function's inputs and outputs just by reading its signature. Type hints can also help you catch certain types of errors before running your code."
   ]
  },
  {
   "attachments": {},
   "cell_type": "markdown",
   "metadata": {},
   "source": [
    "## Adding Type Hints to Functions\n",
    "\n",
    "<style>\n",
    "html,body        {height: 100%;}\n",
    ".wrapper         {width: 80%; max-width: 1280px; height: 100%; margin: 0 auto; background: rgba(255, 255, 255, .0); padding-bottom: 50px}\n",
    ".h_iframe        {position: relative; padding-top: 56%;}\n",
    ".h_iframe iframe {position: absolute; top: 0; left: 0; width: 100%; height: 100%;}\n",
    "</style>\n",
    "\n",
    "<div class=\"wrapper\">\n",
    "    <div class=\"h_iframe\">\n",
    "        <iframe height=\"2\" width=\"2\" src=\"https://www.youtube.com/embed/l0BSZCwvofc\" title=\"YouTube video player\" frameborder=\"0\" allow=\"accelerometer; autoplay; clipboard-write; encrypted-media; gyroscope; picture-in-picture; web-share\" allowfullscreen></iframe>\n",
    "    </div>\n",
    "</div>\n",
    "\n",
    "Let's start with a simple function, and then add type hints. Here's a function\n",
    "without type hints:\n",
    "\n",
    "```python\n",
    "def greet(name):\n",
    "    return \"Hello, \" + name\n",
    "```\n",
    "\n",
    "Here's how you can add type hints for the parameter (`name`) and the return value:\n",
    "\n",
    "```python\n",
    "def greet(name: str) -> str:\n",
    "    return \"Hello, \" + name\n",
    "```\n",
    "\n",
    "In this example, `name: str` tells us that the `name` parameter should be a string, and `-> str` tells us that the function will return a string.\n",
    "\n",
    "Type hints for other basic data types can be added in a similar way:\n",
    "\n",
    "```python\n",
    "def add_numbers(num1: int, num2: int) -> int:\n",
    "    return num1 + num2\n",
    "\n",
    "def is_even(num: int) -> bool:\n",
    "    return num % 2 == 0\n",
    "\n",
    "def process_list(my_list: list) -> float:\n",
    "    return sum(my_list) / len(my_list)\n",
    "```\n",
    "\n",
    "Note: Type hints do not enforce the data type. If you pass an argument of a different type, Python will not raise an error."
   ]
  },
  {
   "cell_type": "code",
   "execution_count": null,
   "metadata": {},
   "outputs": [],
   "source": [
    "# Type hints are \"Hints\" not rules. Both function calls below are fine\n",
    "\n",
    "def add_numbers(num1: int, num2: int) -> int:\n",
    "    return num1 + num2\n",
    "\n",
    "\n",
    "add_numbers(1, 2)\n",
    "\n",
    "# This will not cause an error\n",
    "add_numbers(\"1\", \"2\")\n"
   ]
  },
  {
   "attachments": {},
   "cell_type": "markdown",
   "metadata": {},
   "source": [
    "## Documenting Functions with Docstrings\n",
    "\n",
    "<style>\n",
    "html,body        {height: 100%;}\n",
    ".wrapper         {width: 80%; max-width: 1280px; height: 100%; margin: 0 auto; background: rgba(255, 255, 255, .0); padding-bottom: 50px}\n",
    ".h_iframe        {position: relative; padding-top: 56%;}\n",
    ".h_iframe iframe {position: absolute; top: 0; left: 0; width: 100%; height: 100%;}\n",
    "</style>\n",
    "\n",
    "<div class=\"wrapper\">\n",
    "    <div class=\"h_iframe\">\n",
    "        <iframe height=\"2\" width=\"2\" src=\"https://www.youtube.com/embed/B3GqQg5BKIM\" title=\"YouTube video player\" frameborder=\"0\" allow=\"accelerometer; autoplay; clipboard-write; encrypted-media; gyroscope; picture-in-picture; web-share\" allowfullscreen></iframe>\n",
    "    </div>\n",
    "</div>\n",
    "\n",
    "Docstrings are a way of documenting your Python functions. They are placed immediately below the function definition and are written between triple quotes (`\"\"\"`).\n",
    "\n",
    "Here's how you can write a docstring:"
   ]
  },
  {
   "cell_type": "code",
   "execution_count": null,
   "metadata": {},
   "outputs": [],
   "source": [
    "def add_numbers(num1: int, num2: int) -> int:\n",
    "    \"\"\"Adds two integers together.\n",
    "\n",
    "    Args:\n",
    "        num1 (int): The first number to add.\n",
    "        num2 (int): The second number to add.\n",
    "\n",
    "    Returns:\n",
    "        int: The sum of num1 and num2.\n",
    "    \"\"\"\n",
    "    return num1 + num2\n",
    "\n",
    "\n",
    "add_numbers(1, 2)\n"
   ]
  },
  {
   "attachments": {},
   "cell_type": "markdown",
   "metadata": {},
   "source": [
    "In this docstring:\n",
    "\n",
    "- The first line is a brief summary of what the function does.\n",
    "- The \"Args\" section describes the function's arguments. For each argument, write its name, type, and a brief description.\n",
    "- The \"Returns\" section describes the return value of the function. Write its type and a brief description.\n",
    "\n",
    "**Try it this:** Hover your mouse over the function name `add_numbers` on line 1 or 14 and a menu\n",
    "will appear with the docstring.\n",
    "\n",
    "Congratulations! You now know how to annotate your Python functions with type hints and document them with docstrings. Keep practicing to get the hang of it. Happy coding!"
   ]
  }
 ],
 "metadata": {
  "kernelspec": {
   "display_name": ".venv",
   "language": "python",
   "name": "python3"
  },
  "language_info": {
   "name": "python",
   "version": "3.8.10 (default, Nov 14 2022, 12:59:47) \n[GCC 9.4.0]"
  },
  "orig_nbformat": 4,
  "vscode": {
   "interpreter": {
    "hash": "65d994a2586566578e6f5f03c290bfd0b2867c7905a9622796af24a8a04596a2"
   }
  }
 },
 "nbformat": 4,
 "nbformat_minor": 2
}
