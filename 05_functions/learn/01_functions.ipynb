{
 "cells": [
  {
   "attachments": {},
   "cell_type": "markdown",
   "metadata": {},
   "source": [
    "# Functions\n",
    "\n",
    "In this tutorial, I will introduce you to the concepts of functions, return\n",
    "statements, parameters, and variable scope. "
   ]
  },
  {
   "attachments": {},
   "cell_type": "markdown",
   "metadata": {},
   "source": [
    "## Defining \n",
    "\n",
    "<style>\n",
    "html,body        {height: 100%;}\n",
    ".wrapper         {width: 80%; max-width: 1280px; height: 100%; margin: 0 auto; background: rgba(255, 255, 255, .0); padding-bottom: 50px}\n",
    ".h_iframe        {position: relative; padding-top: 56%;}\n",
    ".h_iframe iframe {position: absolute; top: 0; left: 0; width: 100%; height: 100%;}\n",
    "</style>\n",
    "\n",
    "<div class=\"wrapper\">\n",
    "    <div class=\"h_iframe\">\n",
    "        <iframe height=\"2\" width=\"2\" src=\"https://www.youtube.com/embed/3X56t-ESiZ4\" title=\"YouTube video player\" frameborder=\"0\" allow=\"accelerometer; autoplay; clipboard-write; encrypted-media; gyroscope; picture-in-picture; web-share\" allowfullscreen></iframe>\n",
    "    </div>\n",
    "</div>\n",
    "\n",
    "First, let's talk about functions. In programming, a function is a block of code\n",
    "that performs a specific task. Functions can be reused throughout your code,\n",
    "making it easier to maintain and organize your program.\n",
    "\n",
    "A function in Python is defined with the `def` keyword, followed by the\n",
    "function's name and a pair of parentheses `()`, which may enclose some\n",
    "parameters. It is then followed by a colon `:`, and the body of the function is\n",
    "indented under this definition.\n",
    "\n",
    "```py\n",
    "def FUNCTION_NAME():\n",
    "    # Code Block\n",
    "```\n",
    "\n",
    "Here is a very basic function definition:\n"
   ]
  },
  {
   "cell_type": "code",
   "execution_count": 1,
   "metadata": {},
   "outputs": [],
   "source": [
    "def greet():\n",
    "    print(\"Hello, world!\")"
   ]
  },
  {
   "attachments": {},
   "cell_type": "markdown",
   "metadata": {},
   "source": [
    "This function is named \"greet\", and it prints the message \"Hello, world!\" when\n",
    "called. To call the function, you simply write its name followed by parentheses: "
   ]
  },
  {
   "cell_type": "code",
   "execution_count": 2,
   "metadata": {},
   "outputs": [
    {
     "name": "stdout",
     "output_type": "stream",
     "text": [
      "Hello, world!\n"
     ]
    }
   ],
   "source": [
    "greet()"
   ]
  },
  {
   "attachments": {},
   "cell_type": "markdown",
   "metadata": {},
   "source": [
    "# Arguments\n",
    "\n",
    "<style>\n",
    "html,body        {height: 100%;}\n",
    ".wrapper         {width: 80%; max-width: 1280px; height: 100%; margin: 0 auto; background: rgba(255, 255, 255, .0); padding-bottom: 50px}\n",
    ".h_iframe        {position: relative; padding-top: 56%;}\n",
    ".h_iframe iframe {position: absolute; top: 0; left: 0; width: 100%; height: 100%;}\n",
    "</style>\n",
    "\n",
    "<div class=\"wrapper\">\n",
    "    <div class=\"h_iframe\">\n",
    "        <iframe height=\"2\" width=\"2\" src=\"https://www.youtube.com/embed/5-7xUttVgao\" title=\"YouTube video player\" frameborder=\"0\" allow=\"accelerometer; autoplay; clipboard-write; encrypted-media; gyroscope; picture-in-picture; web-share\" allowfullscreen></iframe>\n",
    "    </div>\n",
    "</div>\n",
    "\n",
    "Next, let's talk about arguments. Function arguments are values that you can pass into a function to modify its behavior. Here's an example:"
   ]
  },
  {
   "cell_type": "code",
   "execution_count": 4,
   "metadata": {},
   "outputs": [],
   "source": [
    "def greet(name):\n",
    "    print(\"Hello, \" + name + \"!\")"
   ]
  },
  {
   "attachments": {},
   "cell_type": "markdown",
   "metadata": {},
   "source": [
    "This function takes a argument named `name` and uses it to print a personalized greeting. To call the function and pass in a name, you would do the following:"
   ]
  },
  {
   "cell_type": "code",
   "execution_count": 6,
   "metadata": {},
   "outputs": [
    {
     "name": "stdout",
     "output_type": "stream",
     "text": [
      "Hello, Harris!\n",
      "Hello, Tanya!\n"
     ]
    }
   ],
   "source": [
    "user_input = input(\"Please type your name: \")\n",
    "greet(user_input)\n",
    "greet(\"Tanya\")\n"
   ]
  },
  {
   "attachments": {},
   "cell_type": "markdown",
   "metadata": {},
   "source": [
    "This print's out your name."
   ]
  },
  {
   "attachments": {},
   "cell_type": "markdown",
   "metadata": {},
   "source": [
    "## Return Statements\n",
    "\n",
    "<style>\n",
    "html,body        {height: 100%;}\n",
    ".wrapper         {width: 80%; max-width: 1280px; height: 100%; margin: 0 auto; background: rgba(255, 255, 255, .0); padding-bottom: 50px}\n",
    ".h_iframe        {position: relative; padding-top: 56%;}\n",
    ".h_iframe iframe {position: absolute; top: 0; left: 0; width: 100%; height: 100%;}\n",
    "</style>\n",
    "\n",
    "<div class=\"wrapper\">\n",
    "    <div class=\"h_iframe\">\n",
    "        <iframe height=\"2\" width=\"2\" src=\"https://www.youtube.com/embed/Z36RTT1x1mo\" title=\"YouTube video player\" frameborder=\"0\" allow=\"accelerometer; autoplay; clipboard-write; encrypted-media; gyroscope; picture-in-picture; web-share\" allowfullscreen></iframe>\n",
    "    </div>\n",
    "</div>\n",
    "\n",
    "Now, let's talk about return statements. A return statement is used to exit a\n",
    "function and return a value to the caller. The syntax of a return statement is\n",
    "as follows:\n",
    "\n",
    "```py\n",
    "return VALUE\n",
    "```\n",
    "\n",
    "- `return` is a python keyword that tells the function to go back to the line\n",
    "  that called it. \n",
    "- `VALUE` is the name of a variable who's value will be sent back the line that\n",
    "  called it.\n",
    "\n",
    "Here's an example:"
   ]
  },
  {
   "cell_type": "code",
   "execution_count": 7,
   "metadata": {},
   "outputs": [],
   "source": [
    "def add(a, b):\n",
    "    return a + b"
   ]
  },
  {
   "attachments": {},
   "cell_type": "markdown",
   "metadata": {},
   "source": [
    "This function is named `add` and takes two parameters, `a` and `b`. The function returns the sum of `a` and `b`. To call the function and store the result in a variable, you would do the following:"
   ]
  },
  {
   "cell_type": "code",
   "execution_count": 9,
   "metadata": {},
   "outputs": [
    {
     "name": "stdout",
     "output_type": "stream",
     "text": [
      "100\n"
     ]
    }
   ],
   "source": [
    "result = add(70, 30)\n",
    "print(result)"
   ]
  },
  {
   "attachments": {},
   "cell_type": "markdown",
   "metadata": {},
   "source": [
    "This would output `5`, since the function returns the sum of `2` and `3`."
   ]
  },
  {
   "attachments": {},
   "cell_type": "markdown",
   "metadata": {},
   "source": [
    "## Scope\n",
    "\n",
    "<style>\n",
    "html,body        {height: 100%;}\n",
    ".wrapper         {width: 80%; max-width: 1280px; height: 100%; margin: 0 auto; background: rgba(255, 255, 255, .0); padding-bottom: 50px}\n",
    ".h_iframe        {position: relative; padding-top: 56%;}\n",
    ".h_iframe iframe {position: absolute; top: 0; left: 0; width: 100%; height: 100%;}\n",
    "</style>\n",
    "\n",
    "<div class=\"wrapper\">\n",
    "    <div class=\"h_iframe\">\n",
    "        <iframe height=\"2\" width=\"2\" src=\"https://www.youtube.com/embed/1w98xSisuyo\" title=\"YouTube video player\" frameborder=\"0\" allow=\"accelerometer; autoplay; clipboard-write; encrypted-media; gyroscope; picture-in-picture; web-share\" allowfullscreen></iframe>\n",
    "    </div>\n",
    "</div>\n",
    "\n",
    "Finally, let's talk about variable scope. In programming, the scope of a\n",
    "variable is the region of the code where it can be accessed. There are two types\n",
    "of variable scope in Python: global and local. A global variable can be accessed\n",
    "from anywhere in your code, while a local variable can only be accessed within\n",
    "the function where it was defined. Here's an example: "
   ]
  },
  {
   "cell_type": "code",
   "execution_count": 13,
   "metadata": {},
   "outputs": [
    {
     "name": "stdout",
     "output_type": "stream",
     "text": [
      "I am now a local variable\n",
      "I am local\n",
      "I am now a local variable\n"
     ]
    }
   ],
   "source": [
    "global_variable = \"I am global\"\n",
    "\n",
    "\n",
    "def print_variable():\n",
    "    global global_variable\n",
    "    global_variable = \"I am now a local variable\"\n",
    "    local_variable = \"I am local\"\n",
    "    print(global_variable)\n",
    "    print(local_variable)\n",
    "\n",
    "\n",
    "print_variable()\n",
    "print(global_variable)\n"
   ]
  },
  {
   "attachments": {},
   "cell_type": "markdown",
   "metadata": {},
   "source": [
    "This would output \"I am global\" and \"I am local\". The global variable\n",
    "`global_variable` can be accessed from within the function `print_variable`,\n",
    "while the local variable `local_variable` can only be accessed within the\n",
    "function. \n",
    "\n",
    "That's it for this introduction to functions, return statements, parameters, and\n",
    "variable scope in Python! These concepts are fundamental to programming, and\n",
    "mastering them will help you write more efficient and effective code. Keep\n",
    "practicing and don't give up! "
   ]
  },
  {
   "attachments": {},
   "cell_type": "markdown",
   "metadata": {},
   "source": [
    "# Turtle\n",
    "\n",
    "Earlier we learned how create a box with our turtle by repeating the same 4\n",
    "lines of code in a for loop. Now let's put the code with a function and learn\n",
    "how we can use it as building blocks. \n",
    "\n",
    "We have the following code:\n",
    "\n",
    "```py\n",
    "squirtle.pencolor('green')\n",
    "squirtle.forward(40)\n",
    "squirtle.right(90)\n",
    "squirtle.forward(40)\n",
    "```\n",
    "\n",
    "This tells `squirtle` our turtle to draw a corner of a box. Below we've put it\n",
    "into a function:"
   ]
  },
  {
   "cell_type": "code",
   "execution_count": 15,
   "metadata": {},
   "outputs": [],
   "source": [
    "def draw_corner(turtle, color, length, angle = 90):\n",
    "    turtle.pencolor(color)\n",
    "    turtle.forward(length)\n",
    "    turtle.right(angle)\n",
    "    turtle.forward(length)\n"
   ]
  },
  {
   "attachments": {},
   "cell_type": "markdown",
   "metadata": {},
   "source": [
    "Let's break this down:\n",
    "\n",
    "```py\n",
    "def draw_corner(turtle, color, length, angle = 90):\n",
    "```\n",
    "\n",
    "This line defines a function called `draw_corner` that takes four parameters:\n",
    "`turtle`, `color`, `length`, and `angle`. The `turtle` parameter is an object\n",
    "that represents the turtle used for drawing, `color` is the color of the line to\n",
    "be drawn, `length` is the length of the line to be drawn, and `angle` is the\n",
    "angle at which the turtle will turn after drawing the first line. The `angle`\n",
    "parameter is optional and has a default value of `90`. \n",
    "\n",
    "With a default value a user our function can call it like this:\n",
    "\n",
    "```py\n",
    "draw_corner(squirtle, \"green\", 40, 50)\n",
    "```\n",
    "\n",
    "This tells squirtle to draw a green corner that is 50 degrees. Or we can call: \n",
    "\n",
    "```py\n",
    "draw_corner(squirtle, \"green\", 40)\n",
    "```\n",
    "\n",
    "This tells squirtle to draw a green corner that is 90 degrees. It's 90 degrees\n",
    "because we left our the angle parameter so it defaults to 90 instead.\n",
    "\n",
    "```py\n",
    "turtle.pencolor(color)\n",
    "```\n",
    "\n",
    "This line sets the color of the turtle's pen to the value of the `color`\n",
    "parameter passed into the function. \n",
    "\n",
    "```py\n",
    "turtle.forward(length)\n",
    "```\n",
    "\n",
    "This line moves the turtle forward by the length of the line specified in the\n",
    "`length` parameter. \n",
    "\n",
    "```py\n",
    "turtle.right(angle)\n",
    "```\n",
    "\n",
    "This line turns the turtle to the right by the number of degrees specified in\n",
    "the `angle` parameter. If the `angle` parameter was not passed in when the\n",
    "function was called, the turtle will turn right by 90 degrees by default. \n",
    "\n",
    "```py\n",
    "turtle.forward(length)\n",
    "```\n",
    "\n",
    "This line moves the turtle forward again by the length specified in the `length`\n",
    "parameter, drawing the second line of the corner. \n",
    "\n",
    "Overall, this function draws a right angle corner with two lines of equal length\n",
    "and a specified color. The angle of the corner can be modified by passing in a\n",
    "different `angle` parameter value. \n",
    "\n",
    "Below we use the function we created above to draw two squares."
   ]
  },
  {
   "cell_type": "code",
   "execution_count": 16,
   "metadata": {},
   "outputs": [
    {
     "data": {
      "application/vnd.jupyter.widget-view+json": {
       "model_id": "7febc484bf0f4e888fd37ebf7f14b990",
       "version_major": 2,
       "version_minor": 0
      },
      "text/plain": [
       "Turtle()"
      ]
     },
     "metadata": {},
     "output_type": "display_data"
    }
   ],
   "source": [
    "from mobilechelonian import Turtle\n",
    "\n",
    "squirtle = Turtle()\n",
    "\n",
    "draw_corner(squirtle, \"green\", 30)\n",
    "draw_corner(squirtle, \"green\", 30)\n",
    "draw_corner(squirtle, \"green\", 30)\n",
    "draw_corner(squirtle, \"green\", 30)\n",
    "\n",
    "draw_corner(squirtle, \"red\", 30, -90)\n",
    "draw_corner(squirtle, \"red\", 30)\n",
    "draw_corner(squirtle, \"red\", 30)\n",
    "draw_corner(squirtle, \"red\", 30)\n",
    "\n",
    "squirtle.forward(30)\n"
   ]
  },
  {
   "attachments": {},
   "cell_type": "markdown",
   "metadata": {},
   "source": [
    "Below we use a combination of a for loop and a list of colors to draw a multiple\n",
    "color octagon."
   ]
  },
  {
   "cell_type": "code",
   "execution_count": 17,
   "metadata": {},
   "outputs": [
    {
     "data": {
      "application/vnd.jupyter.widget-view+json": {
       "model_id": "efe7ed4b1842485694153c9e456e871f",
       "version_major": 2,
       "version_minor": 0
      },
      "text/plain": [
       "Turtle()"
      ]
     },
     "metadata": {},
     "output_type": "display_data"
    }
   ],
   "source": [
    "from mobilechelonian import Turtle\n",
    "colors = ['red', 'green', 'blue', 'yellow', 'white', 'black', 'purple', 'brown']\n",
    "\n",
    "squirtle = Turtle()\n",
    "\n",
    "for color in colors:\n",
    "    draw_corner(squirtle, color, 30, 360//8)\n"
   ]
  }
 ],
 "metadata": {
  "kernelspec": {
   "display_name": ".venv",
   "language": "python",
   "name": "python3"
  },
  "language_info": {
   "codemirror_mode": {
    "name": "ipython",
    "version": 3
   },
   "file_extension": ".py",
   "mimetype": "text/x-python",
   "name": "python",
   "nbconvert_exporter": "python",
   "pygments_lexer": "ipython3",
   "version": "3.8.10 (default, Nov 14 2022, 12:59:47) \n[GCC 9.4.0]"
  },
  "orig_nbformat": 4,
  "vscode": {
   "interpreter": {
    "hash": "65d994a2586566578e6f5f03c290bfd0b2867c7905a9622796af24a8a04596a2"
   }
  }
 },
 "nbformat": 4,
 "nbformat_minor": 2
}
