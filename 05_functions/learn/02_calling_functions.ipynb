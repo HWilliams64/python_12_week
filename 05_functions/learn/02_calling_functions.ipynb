{
 "cells": [
  {
   "attachments": {},
   "cell_type": "markdown",
   "metadata": {},
   "source": [
    "# Calling a Function\n",
    "\n",
    "Today we are going to cover an essential aspect of calling a Python function\n",
    "with positional and keyword arguments. By the end of this tutorial, you will\n",
    "understand the difference between positional and keyword arguments, learn how to\n",
    "call functions with these arguments, and appreciate the flexibility that\n",
    "Python's function arguments offer."
   ]
  },
  {
   "attachments": {},
   "cell_type": "markdown",
   "metadata": {},
   "source": [
    "## Positional Arguments\n",
    "\n",
    "<style>\n",
    "html,body        {height: 100%;}\n",
    ".wrapper         {width: 80%; max-width: 1280px; height: 100%; margin: 0 auto; background: rgba(255, 255, 255, .0); padding-bottom: 50px}\n",
    ".h_iframe        {position: relative; padding-top: 56%;}\n",
    ".h_iframe iframe {position: absolute; top: 0; left: 0; width: 100%; height: 100%;}\n",
    "</style>\n",
    "\n",
    "<div class=\"wrapper\">\n",
    "    <div class=\"h_iframe\">\n",
    "        <iframe height=\"2\" width=\"2\" src=\"https://www.youtube.com/embed/MdmjqZg8fwg\" title=\"YouTube video player\" frameborder=\"0\" allow=\"accelerometer; autoplay; clipboard-write; encrypted-media; gyroscope; picture-in-picture; web-share\" allowfullscreen></iframe>\n",
    "    </div>\n",
    "</div>\n",
    "\n",
    "Positional arguments are the most common and perhaps the most intuitive type of arguments. They derive their name from the position they are in. When you call a function with positional arguments, Python matches each argument to the respective parameter in the function definition, based on the order they're in.\n",
    "\n",
    "Let's take a look at an example:"
   ]
  },
  {
   "cell_type": "code",
   "execution_count": null,
   "metadata": {},
   "outputs": [],
   "source": [
    "def describe_pet(animal_type, pet_name):\n",
    "    print(\"\\nI have a \" + animal_type + \".\")\n",
    "    print(\"My \" + animal_type + \"'s name is \" + pet_name + \".\")\n",
    "\n",
    "\n",
    "describe_pet('hamster', 'harry')\n"
   ]
  },
  {
   "attachments": {},
   "cell_type": "markdown",
   "metadata": {},
   "source": [
    "In the `describe_pet` function, `animal_type` and `pet_name` are parameters. When we call `describe_pet('hamster', 'harry')`, `'hamster'` and `'harry'` are positional arguments that get matched to `animal_type` and `pet_name` respectively."
   ]
  },
  {
   "attachments": {},
   "cell_type": "markdown",
   "metadata": {},
   "source": [
    "## Keyword Arguments\n",
    "\n",
    "<style>\n",
    "html,body        {height: 100%;}\n",
    ".wrapper         {width: 80%; max-width: 1280px; height: 100%; margin: 0 auto; background: rgba(255, 255, 255, .0); padding-bottom: 50px}\n",
    ".h_iframe        {position: relative; padding-top: 56%;}\n",
    ".h_iframe iframe {position: absolute; top: 0; left: 0; width: 100%; height: 100%;}\n",
    "</style>\n",
    "\n",
    "<div class=\"wrapper\">\n",
    "    <div class=\"h_iframe\">\n",
    "        <iframe height=\"2\" width=\"2\" src=\"https://www.youtube.com/embed/TCqNVsfdcno\" title=\"YouTube video player\" frameborder=\"0\" allow=\"accelerometer; autoplay; clipboard-write; encrypted-media; gyroscope; picture-in-picture; web-share\" allowfullscreen></iframe>\n",
    "    </div>\n",
    "</div>\n",
    "\n",
    "Keyword arguments allow you to specify argument-value pairs. This means you don't have to worry about the order of the arguments, as Python knows which value belongs to which parameter based on the keyword (parameter name) provided.\n",
    "\n",
    "Here's the previous example modified to use keyword arguments:\n"
   ]
  },
  {
   "cell_type": "code",
   "execution_count": null,
   "metadata": {},
   "outputs": [],
   "source": [
    "def describe_pet(animal_type, pet_name):\n",
    "    print(\"\\nI have a \" + animal_type + \".\")\n",
    "    print(\"My \" + animal_type + \"'s name is \" + pet_name + \".\")\n",
    "\n",
    "\n",
    "describe_pet(animal_type='hamster', pet_name='harry')\n"
   ]
  },
  {
   "attachments": {},
   "cell_type": "markdown",
   "metadata": {},
   "source": [
    "In this case, even if we change the order of arguments, our function will work perfectly:"
   ]
  },
  {
   "cell_type": "code",
   "execution_count": null,
   "metadata": {},
   "outputs": [],
   "source": [
    "describe_pet(pet_name='harry', animal_type='hamster')\n"
   ]
  },
  {
   "attachments": {},
   "cell_type": "markdown",
   "metadata": {},
   "source": [
    "## Combining Positional and Keyword Arguments\n",
    "\n",
    "In a function call, you can mix positional and keyword arguments. However, there's an important rule: positional arguments must be specified before keyword arguments. \n",
    "\n",
    "Let's modify our `describe_pet` function again:"
   ]
  },
  {
   "cell_type": "code",
   "execution_count": null,
   "metadata": {},
   "outputs": [],
   "source": [
    "def describe_pet(animal_type, pet_name):\n",
    "    print(\"\\nI have a \" + animal_type + \".\")\n",
    "    print(\"My \" + animal_type + \"'s name is \" + pet_name + \".\")\n",
    "\n",
    "\n",
    "describe_pet('hamster', pet_name='harry')\n"
   ]
  },
  {
   "attachments": {},
   "cell_type": "markdown",
   "metadata": {},
   "source": [
    "In this call, `'hamster'` is a positional argument and `pet_name='harry'` is a keyword argument. Python matches the positional argument first, then the keyword argument, leading to the correct output.\n",
    "\n",
    "That's it! You've learned about positional and keyword arguments in Python. As you continue your Python journey, you'll see that understanding these concepts can make your code more readable and flexible. Remember to practice by"
   ]
  }
 ],
 "metadata": {
  "kernelspec": {
   "display_name": ".venv",
   "language": "python",
   "name": "python3"
  },
  "language_info": {
   "name": "python",
   "version": "3.8.10 (default, Nov 14 2022, 12:59:47) \n[GCC 9.4.0]"
  },
  "orig_nbformat": 4,
  "vscode": {
   "interpreter": {
    "hash": "65d994a2586566578e6f5f03c290bfd0b2867c7905a9622796af24a8a04596a2"
   }
  }
 },
 "nbformat": 4,
 "nbformat_minor": 2
}
