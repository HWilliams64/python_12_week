{
 "cells": [
  {
   "attachments": {},
   "cell_type": "markdown",
   "metadata": {},
   "source": [
    "# Understanding Default Arguments in Python\n",
    "\n",
    "Welcome to this tutorial! Today we're going to explore a really handy feature of Python functions - default arguments. They can make your functions more flexible and easier to use, so let's dive right in!"
   ]
  },
  {
   "attachments": {},
   "cell_type": "markdown",
   "metadata": {},
   "source": [
    "## What are Default Arguments?\n",
    "\n",
    "<style>\n",
    "html,body        {height: 100%;}\n",
    ".wrapper         {width: 80%; max-width: 1280px; height: 100%; margin: 0 auto; background: rgba(255, 255, 255, .0); padding-bottom: 50px}\n",
    ".h_iframe        {position: relative; padding-top: 56%;}\n",
    ".h_iframe iframe {position: absolute; top: 0; left: 0; width: 100%; height: 100%;}\n",
    "</style>\n",
    "\n",
    "<div class=\"wrapper\">\n",
    "    <div class=\"h_iframe\">\n",
    "        <iframe height=\"2\" width=\"2\" src=\"https://www.youtube.com/embed/myE-LSSSWDc\" title=\"YouTube video player\" frameborder=\"0\" allow=\"accelerometer; autoplay; clipboard-write; encrypted-media; gyroscope; picture-in-picture; web-share\" allowfullscreen></iframe>\n",
    "    </div>\n",
    "</div>\n",
    "\n",
    "In Python, when we define a function, we can specify default values for the\n",
    "arguments. These default values are used if the function is called without a\n",
    "value for that argument. In Python, default arguments are defined in the\n",
    "function declaration using the syntax `arg=default_value`. These arguments are\n",
    "typically listed after non-default arguments. \n",
    "\n",
    "In this function below, `name` is an argument with a default value of \"Stranger\". Let's see what happens when we call this function.\n"
   ]
  },
  {
   "cell_type": "code",
   "execution_count": null,
   "metadata": {},
   "outputs": [],
   "source": [
    "def greet(name=\"Stranger\"):\n",
    "    print(f\"Hello, {name}!\")\n",
    "\n",
    "\n",
    "greet()         # Output: Hello, Stranger!\n",
    "greet(\"Alice\")  # Output: Hello, Alice!\n"
   ]
  },
  {
   "attachments": {},
   "cell_type": "markdown",
   "metadata": {},
   "source": [
    "As you can see, if we call `greet()` without an argument, it uses the default value \"Stranger\". If we provide a value, it uses that instead."
   ]
  },
  {
   "attachments": {},
   "cell_type": "markdown",
   "metadata": {},
   "source": [
    "## Benefits of Default Arguments\n",
    "\n",
    "Default arguments can make your functions more flexible and easier to use in several ways:\n",
    "\n",
    "- **They allow function calls to be shorter in many cases**: If a function has a lot of parameters, calling it can be tedious. If many of those parameters usually have the same value, we can use those as default values.\n",
    "\n",
    "- **They can make the function easier to understand**: By providing sensible defaults, you give hints to the function's users about what sort of values they should provide.\n",
    "\n",
    "- **They allow you to add new parameters without breaking existing code**: If you add a new parameter with a default value to an existing function, any existing calls to that function will still work.\n"
   ]
  },
  {
   "attachments": {},
   "cell_type": "markdown",
   "metadata": {},
   "source": [
    "## Overriding Default Arguments\n",
    "\n",
    "As we saw in the `greet()` example above, you can override the default argument simply by providing a value when calling the function. The value you provide will be used instead of the default."
   ]
  },
  {
   "attachments": {},
   "cell_type": "markdown",
   "metadata": {},
   "source": [
    "## Practice: Let's create a function!\n",
    "\n",
    "Let's create a function `create_profile` that takes in a name, age, and a favorite color. We'll set the default favorite color to be 'blue'."
   ]
  },
  {
   "cell_type": "code",
   "execution_count": null,
   "metadata": {},
   "outputs": [],
   "source": [
    "def create_profile(name, age, favorite_color='blue'):\n",
    "    print(f\"{name} is {age} years old.\")\n",
    "    print(f\"{name}'s favorite color is {favorite_color}.\")\n",
    "\n",
    "\n",
    "# Output: Alice is 25 years old. Alice's favorite color is blue.\n",
    "create_profile(\"Alice\", 25)\n",
    "# Output: Bob is 30 years old. Bob's favorite color is red.\n",
    "create_profile(\"Bob\", 30, 'red')\n"
   ]
  },
  {
   "attachments": {},
   "cell_type": "markdown",
   "metadata": {},
   "source": [
    "\n",
    "As you can see, if we don't provide a favorite color, the function uses 'blue'. If we provide a favorite color, it uses the one we provided.\n",
    "\n",
    "I hope you found this tutorial helpful! The use of default arguments is just one of the many ways that Python allows you to write flexible and reusable code. Practice using them in your own functions and see the difference they make. Happy coding!"
   ]
  }
 ],
 "metadata": {
  "kernelspec": {
   "display_name": ".venv",
   "language": "python",
   "name": "python3"
  },
  "language_info": {
   "name": "python",
   "version": "3.8.10 (default, Nov 14 2022, 12:59:47) \n[GCC 9.4.0]"
  },
  "orig_nbformat": 4,
  "vscode": {
   "interpreter": {
    "hash": "65d994a2586566578e6f5f03c290bfd0b2867c7905a9622796af24a8a04596a2"
   }
  }
 },
 "nbformat": 4,
 "nbformat_minor": 2
}
