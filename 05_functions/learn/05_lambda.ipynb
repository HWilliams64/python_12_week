{
 "cells": [
  {
   "attachments": {},
   "cell_type": "markdown",
   "metadata": {},
   "source": [
    "# Introduction to Lambda Functions in Python\n",
    "\n",
    "<style>\n",
    "html,body        {height: 100%;}\n",
    ".wrapper         {width: 80%; max-width: 1280px; height: 100%; margin: 0 auto; background: rgba(255, 255, 255, .0); padding-bottom: 50px}\n",
    ".h_iframe        {position: relative; padding-top: 56%;}\n",
    ".h_iframe iframe {position: absolute; top: 0; left: 0; width: 100%; height: 100%;}\n",
    "</style>\n",
    "\n",
    "<div class=\"wrapper\">\n",
    "    <div class=\"h_iframe\">\n",
    "        <iframe height=\"2\" width=\"2\" src=\"https://www.youtube.com/embed/S9JDSm7xsMY\" title=\"YouTube video player\" frameborder=\"0\" allow=\"accelerometer; autoplay; clipboard-write; encrypted-media; gyroscope; picture-in-picture; web-share\" allowfullscreen></iframe>\n",
    "    </div>\n",
    "</div>\n",
    "\n",
    "## What is a Lambda Function?\n",
    "\n",
    "A lambda function, also known as an anonymous function, is a function that is defined without a name in Python. Regular functions are defined using the `def` keyword, whereas lambda functions are defined using the `lambda` keyword. The term \"anonymous\" is used because the function doesn't have an explicit name like a regular function would."
   ]
  },
  {
   "attachments": {},
   "cell_type": "markdown",
   "metadata": {},
   "source": [
    "## Lambda Function Syntax\n",
    "\n",
    "The general syntax of a lambda function is as follows:\n",
    "\n",
    "```python\n",
    "lambda arguments: expression\n",
    "```\n",
    "\n",
    "- The `lambda` keyword: This is used to define an anonymous function.\n",
    "- `arguments`: This is where you declare any parameters the function should take.\n",
    "- `expression`: This is a small, single expression that the function will execute and implicitly return.\n",
    "\n",
    "Here is an example of a lambda function that adds two numbers:"
   ]
  },
  {
   "cell_type": "code",
   "execution_count": null,
   "metadata": {},
   "outputs": [],
   "source": [
    "def add(x, y): return x + y\n",
    "\n",
    "\n",
    "print(add(5, 3))  # Output: 8\n"
   ]
  },
  {
   "attachments": {},
   "cell_type": "markdown",
   "metadata": {},
   "source": [
    "## Lambda Functions vs. Regular Functions\n",
    "\n",
    "Lambda functions are different from regular functions in a few key ways:\n",
    "\n",
    "- **Definition**: Regular functions are defined using the `def` keyword, and they have a name. Lambda functions are defined using the `lambda` keyword and are anonymous (they do not have a name).\n",
    "\n",
    "- **Size**: Lambda functions are concise and can be defined in a single line. Regular functions can be as large as necessary and are typically multiline.\n",
    "\n",
    "- **Return statement**: Lambda functions have an implicit return statement, meaning they automatically return the result of their expression. Regular functions require an explicit return statement.\n",
    "\n",
    "- **Number of expressions**: Lambda functions can only have one expression, whereas regular functions can have any number of expressions or statements.\n",
    "\n",
    "Here is a comparison between a regular function and a lambda function:\n"
   ]
  },
  {
   "cell_type": "code",
   "execution_count": null,
   "metadata": {},
   "outputs": [],
   "source": [
    "# Regular function\n",
    "def add(x, y):\n",
    "    return x + y\n",
    "\n",
    "\n",
    "print(add(5, 3))  # Output: 8\n",
    "\n",
    "# Lambda function\n",
    "def add_lambda(x, y): return x + y\n",
    "\n",
    "print(add_lambda(5, 3))  # Output: 8\n"
   ]
  },
  {
   "attachments": {},
   "cell_type": "markdown",
   "metadata": {},
   "source": [
    "## When to Use Lambda Functions?\n",
    "\n",
    "Lambda functions are useful when you need a small, concise function for a short period of time, and you don't want to define and name a regular function. This often occurs when you want to pass a function as an argument to higher-order functions, i.e., functions that take other functions as their arguments.\n",
    "\n",
    "Some of the typical scenarios where lambda functions are used are:\n",
    "\n",
    "- **Sorting and filtering data**: Lambda functions can be used as a key while sorting or filtering data.\n",
    "\n",
    "- **Functional programming concepts**: Lambda functions work well with functional programming concepts like `map()`, `reduce()`, and `filter()`.\n",
    "\n",
    "Here's an example of using a lambda function with the `filter()` function to get all the even numbers from a list:"
   ]
  },
  {
   "cell_type": "code",
   "execution_count": null,
   "metadata": {},
   "outputs": [],
   "source": [
    "numbers = [1, 2, 3, 4, 5, 6]\n",
    "even_numbers = filter(lambda x: x % 2 == 0, numbers)\n",
    "print(list(even_numbers))  # Output: [2, 4, 6]\n"
   ]
  },
  {
   "attachments": {},
   "cell_type": "markdown",
   "metadata": {},
   "source": [
    "Remember, while lambda functions can make your code more concise and easier to read, they can also make it harder to understand if used excessively or for complex logic. If you find your lambda function is becoming too complicated, it might be better to define a regular function instead. Happy coding!"
   ]
  }
 ],
 "metadata": {
  "kernelspec": {
   "display_name": ".venv",
   "language": "python",
   "name": "python3"
  },
  "language_info": {
   "name": "python",
   "version": "3.8.10 (default, Nov 14 2022, 12:59:47) \n[GCC 9.4.0]"
  },
  "orig_nbformat": 4,
  "vscode": {
   "interpreter": {
    "hash": "65d994a2586566578e6f5f03c290bfd0b2867c7905a9622796af24a8a04596a2"
   }
  }
 },
 "nbformat": 4,
 "nbformat_minor": 2
}
