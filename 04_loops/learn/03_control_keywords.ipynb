{
 "cells": [
  {
   "attachments": {},
   "cell_type": "markdown",
   "metadata": {},
   "source": [
    "## Python Loop Control Keywords: break, continue, and pass\n",
    "\n",
    "Hello! Welcome to this Jupiter notebook tutorial. Today, we are going to discuss\n",
    "Loop Control Keywords in Python - `break`, `continue`, and `pass`. We will learn\n",
    "about their usage, how they work, and why they are important in our coding\n",
    "routine. As per the request, all examples will be based on lists, range() and\n",
    "strings.\n",
    "\n",
    "### What are Loop Control Keywords?\n",
    "\n",
    "Loop control keywords in Python are used to control the flow of execution within\n",
    "loops. They can alter the way a loop is executed in various ways. \n",
    "\n",
    "### The Keywords:\n",
    "\n",
    "There are three main loop control keywords that we are going to discuss:\n",
    "\n",
    "1. `break`\n",
    "2. `continue`\n",
    "3. `pass`\n",
    "\n",
    "Let's look at each of these in detail."
   ]
  },
  {
   "attachments": {},
   "cell_type": "markdown",
   "metadata": {},
   "source": [
    "## Break\n",
    "\n",
    "<style>\n",
    "html,body        {height: 100%;}\n",
    ".wrapper         {width: 80%; max-width: 1280px; height: 100%; margin: 0 auto; background: rgba(255, 255, 255, .0); padding-bottom: 50px}\n",
    ".h_iframe        {position: relative; padding-top: 56%;}\n",
    ".h_iframe iframe {position: absolute; top: 0; left: 0; width: 100%; height: 100%;}\n",
    "</style>\n",
    "\n",
    "<div class=\"wrapper\">\n",
    "    <div class=\"h_iframe\">\n",
    "        <iframe height=\"2\" width=\"2\" src=\"https://www.youtube.com/embed/Yw7XenP66dY\" title=\"YouTube video player\" frameborder=\"0\" allow=\"accelerometer; autoplay; clipboard-write; encrypted-media; gyroscope; picture-in-picture; web-share\" allowfullscreen></iframe>\n",
    "    </div>\n",
    "</div>\n",
    "\n",
    "`break` is used when you want to stop the loop even if the loop condition has not become False or the sequence of items has not been completely iterated over.\n",
    "\n",
    "Let's consider a list and say we want to stop our loop as soon as we encounter the number `5`."
   ]
  },
  {
   "cell_type": "code",
   "execution_count": null,
   "metadata": {},
   "outputs": [],
   "source": [
    "for i in [1, 2, 3, 4, 5, 6, 7, 8, 9, 10]:\n",
    "    if i == 5:\n",
    "        break\n",
    "    print(i)\n"
   ]
  },
  {
   "attachments": {},
   "cell_type": "markdown",
   "metadata": {},
   "source": [
    "In the above example, the loop will stop as soon as `i` is `5`. The loop will not continue to `6`, `7`, `8`, `9` and `10`."
   ]
  },
  {
   "attachments": {},
   "cell_type": "markdown",
   "metadata": {},
   "source": [
    "## Continue\n",
    "\n",
    "<style>\n",
    "html,body        {height: 100%;}\n",
    ".wrapper         {width: 80%; max-width: 1280px; height: 100%; margin: 0 auto; background: rgba(255, 255, 255, .0); padding-bottom: 50px}\n",
    ".h_iframe        {position: relative; padding-top: 56%;}\n",
    ".h_iframe iframe {position: absolute; top: 0; left: 0; width: 100%; height: 100%;}\n",
    "</style>\n",
    "\n",
    "<div class=\"wrapper\">\n",
    "    <div class=\"h_iframe\">\n",
    "        <iframe height=\"2\" width=\"2\" src=\"https://www.youtube.com/embed/b9Yjcogvglw\" title=\"YouTube video player\" frameborder=\"0\" allow=\"accelerometer; autoplay; clipboard-write; encrypted-media; gyroscope; picture-in-picture; web-share\" allowfullscreen></iframe>\n",
    "    </div>\n",
    "</div>\n",
    "\n",
    "`continue` is used when you want to skip the rest of the loop for the current iteration and immediately proceed to the next iteration.\n",
    "\n",
    "Again, let's consider a list and say we want to skip the number `5`."
   ]
  },
  {
   "cell_type": "code",
   "execution_count": null,
   "metadata": {},
   "outputs": [],
   "source": [
    "for i in [1, 2, 3, 4, 5, 6, 7, 8, 9, 10]:\n",
    "    if i == 5:\n",
    "        continue\n",
    "    print(i)\n"
   ]
  },
  {
   "attachments": {},
   "cell_type": "markdown",
   "metadata": {},
   "source": [
    "In this case, `5` is not printed, and the loop immediately continues to the next\n",
    "iteration."
   ]
  },
  {
   "attachments": {},
   "cell_type": "markdown",
   "metadata": {},
   "source": [
    "## Pass\n",
    "\n",
    "<style>\n",
    "html,body        {height: 100%;}\n",
    ".wrapper         {width: 80%; max-width: 1280px; height: 100%; margin: 0 auto; background: rgba(255, 255, 255, .0); padding-bottom: 50px}\n",
    ".h_iframe        {position: relative; padding-top: 56%;}\n",
    ".h_iframe iframe {position: absolute; top: 0; left: 0; width: 100%; height: 100%;}\n",
    "</style>\n",
    "\n",
    "<div class=\"wrapper\">\n",
    "    <div class=\"h_iframe\">\n",
    "        <iframe height=\"2\" width=\"2\" src=\"https://www.youtube.com/embed/7SingpETpRw\" title=\"YouTube video player\" frameborder=\"0\" allow=\"accelerometer; autoplay; clipboard-write; encrypted-media; gyroscope; picture-in-picture; web-share\" allowfullscreen></iframe>\n",
    "    </div>\n",
    "</div>\n",
    "\n",
    "`pass` is a bit different than `break` and `continue`. It does not affect the execution of the loop. Instead, `pass` is a placeholder statement. It's used when you need a statement for syntactic reasons, but you don't want that statement to do anything.\n",
    "\n",
    "For instance, suppose we're iterating over a string, and we want a placeholder for an `if` statement that does nothing when a space character is encountered."
   ]
  },
  {
   "cell_type": "code",
   "execution_count": null,
   "metadata": {},
   "outputs": [],
   "source": [
    "for char in \"Hello World\":\n",
    "    if char == \" \":\n",
    "        pass\n",
    "    print(char)\n"
   ]
  },
  {
   "attachments": {},
   "cell_type": "markdown",
   "metadata": {},
   "source": [
    "Here, `pass` is used as a placeholder for a condition where we do nothing. The loop continues to run normally, and every character, including the space, is printed"
   ]
  },
  {
   "attachments": {},
   "cell_type": "markdown",
   "metadata": {},
   "source": [
    "### When to use them?\n",
    "\n",
    "- Use `break` when you want to exit the loop prematurely.\n",
    "- Use `continue` to skip over part of the loop for a certain condition.\n",
    "- Use `pass` when you need a statement for syntactic reasons, but you don't want any command or code to be executed.\n",
    "\n",
    "### Why use them?\n",
    "\n",
    "These control statements can make your loops more efficient and can lead to clearer, more maintainable code. For example, by using `break`, you can avoid unnecessary computations by exiting a loop as soon as a condition is met. Similarly, by using `continue`, you can skip unnecessary computations in"
   ]
  }
 ],
 "metadata": {
  "kernelspec": {
   "display_name": ".venv",
   "language": "python",
   "name": "python3"
  },
  "language_info": {
   "name": "python",
   "version": "3.8.10 (default, Nov 14 2022, 12:59:47) \n[GCC 9.4.0]"
  },
  "orig_nbformat": 4,
  "vscode": {
   "interpreter": {
    "hash": "65d994a2586566578e6f5f03c290bfd0b2867c7905a9622796af24a8a04596a2"
   }
  }
 },
 "nbformat": 4,
 "nbformat_minor": 2
}
