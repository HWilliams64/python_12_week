{
 "cells": [
  {
   "attachments": {},
   "cell_type": "markdown",
   "metadata": {},
   "source": [
    "# While Loops\n",
    "\n",
    "<style>\n",
    "html,body        {height: 100%;}\n",
    ".wrapper         {width: 80%; max-width: 1280px; height: 100%; margin: 0 auto; background: rgba(255, 255, 255, .0); padding-bottom: 50px}\n",
    ".h_iframe        {position: relative; padding-top: 56%;}\n",
    ".h_iframe iframe {position: absolute; top: 0; left: 0; width: 100%; height: 100%;}\n",
    "</style>\n",
    "\n",
    "<div class=\"wrapper\">\n",
    "    <div class=\"h_iframe\">\n",
    "        <iframe height=\"2\" width=\"2\" src=\"https://www.youtube.com/embed/Pl7rBintlSc\" title=\"YouTube video player\" frameborder=\"0\" allow=\"accelerometer; autoplay; clipboard-write; encrypted-media; gyroscope; picture-in-picture; web-share\" allowfullscreen></iframe>\n",
    "    </div>\n",
    "</div>\n",
    "\n",
    "In Python, a *while* loop is a control flow statement that allows you to execute\n",
    "a block of code repeatedly as long as a certain condition is true. It is similar\n",
    "to an `if` statement, but it keeps executing the code as long as the condition\n",
    "is true, rather than just once.\n",
    "\n",
    "\n",
    "## Syntax\n",
    "\n",
    "**If statement**\n",
    "\n",
    "Let's review the syntax of an `if` statement in Python is as follows:\n",
    "\n",
    "```python\n",
    "if condition:\n",
    "    # code to executed once when the condition is true\n",
    "```\n",
    "\n",
    "**While loop**\n",
    "\n",
    "The syntax for a `while` loop in Python is as follows:\n",
    "\n",
    "```python\n",
    "while condition:\n",
    "    # code to executed repeatedly when the condition is true\n",
    "```\n",
    "\n",
    "The condition is a Boolean expression that is evaluated before each iteration of\n",
    "the loop. If the condition is true, the code inside the loop will be executed.\n",
    "If the condition is false, the loop will exit and the code after the loop will\n",
    "be executed.\n",
    "\n",
    "Note: The only difference is the word `if` and `while`. Remember the `if`\n",
    "statement will be executed once and the `while` loop will be executed repeatedly\n",
    "until it's condition is `false`.\n"
   ]
  },
  {
   "attachments": {},
   "cell_type": "markdown",
   "metadata": {},
   "source": [
    "## Example of a while loop\n",
    "\n",
    "Let's look at an example of a while loop that prints the numbers from 1 to 5:\n"
   ]
  },
  {
   "cell_type": "code",
   "execution_count": null,
   "metadata": {},
   "outputs": [],
   "source": [
    "i = 1\n",
    "while i <= 5:\n",
    "    print(i)\n",
    "    i += 1 # i = 1 + i"
   ]
  },
  {
   "attachments": {},
   "cell_type": "markdown",
   "metadata": {},
   "source": [
    "In this example, the condition is `i <= 5`, which means the loop will continue executing as long as `i` is less than or equal to 5. Inside the loop, we print the value of `i` and then increment it by 1"
   ]
  },
  {
   "attachments": {},
   "cell_type": "markdown",
   "metadata": {},
   "source": [
    "Here's another example of a while loop that asks the user to enter a password and keeps asking until the correct password is entered:"
   ]
  },
  {
   "cell_type": "code",
   "execution_count": null,
   "metadata": {},
   "outputs": [],
   "source": [
    "password = \"password123\"\n",
    "entered_password = input(\"Enter the password: \")\n",
    "\n",
    "while entered_password != password:\n",
    "    print(\"Incorrect password, please try again.\")\n",
    "    entered_password = input(\"Enter the password: \")\n",
    "    \n",
    "print(\"Login successful!\")\n"
   ]
  },
  {
   "attachments": {},
   "cell_type": "markdown",
   "metadata": {},
   "source": [
    "In this example, the condition is `entered_password != password`, which means the loop will continue executing as long as the entered password is not equal to the correct password. Inside the loop, we print a message telling the user that the password is incorrect and ask them to enter the password again. Once the correct password is entered, the loop will exit and we will print a message saying that the login was successful."
   ]
  },
  {
   "attachments": {},
   "cell_type": "markdown",
   "metadata": {},
   "source": [
    "# Turtle\n",
    "\n",
    "Let's draw a spiral with a turtle using a while loop:"
   ]
  },
  {
   "cell_type": "code",
   "execution_count": null,
   "metadata": {},
   "outputs": [],
   "source": [
    "from ipyturtle import Turtle\n",
    "\n",
    "squirtle = Turtle()\n",
    "forward = 5\n",
    "degrees = 30\n",
    "\n",
    "while forward < 50:\n",
    "    squirtle.forward(forward)\n",
    "    squirtle.right(degrees)\n",
    "    forward += 1\n"
   ]
  },
  {
   "attachments": {},
   "cell_type": "markdown",
   "metadata": {},
   "source": [
    "Notice that we want to repeatedly tell `squirtle` to draw and turn, draw and turn,\n",
    "over and over. But each time we need them to draw a little longer. We do this by,\n",
    "increasing the `forward` step amount by 1 each loop. The line of code that says,\n",
    "`forward += 1` add's 1 to the `forward` variable. Its the same as saying `forward =\n",
    "forward + 1`."
   ]
  }
 ],
 "metadata": {
  "kernelspec": {
   "display_name": ".venv",
   "language": "python",
   "name": "python3"
  },
  "language_info": {
   "codemirror_mode": {
    "name": "ipython",
    "version": 3
   },
   "file_extension": ".py",
   "mimetype": "text/x-python",
   "name": "python",
   "nbconvert_exporter": "python",
   "pygments_lexer": "ipython3",
   "version": "3.8.10 (default, Nov 14 2022, 12:59:47) \n[GCC 9.4.0]"
  },
  "orig_nbformat": 4,
  "vscode": {
   "interpreter": {
    "hash": "65d994a2586566578e6f5f03c290bfd0b2867c7905a9622796af24a8a04596a2"
   }
  }
 },
 "nbformat": 4,
 "nbformat_minor": 2
}
