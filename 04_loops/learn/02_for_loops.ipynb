{
 "cells": [
  {
   "attachments": {},
   "cell_type": "markdown",
   "metadata": {},
   "source": [
    "# For Loops\n",
    "\n",
    "A *for loop* is a programming construct that allows you to iterate over a sequence of elements, such as a list or a string. In Python, you can use a for loop to execute a block of code for each element in the sequence."
   ]
  },
  {
   "attachments": {},
   "cell_type": "markdown",
   "metadata": {},
   "source": [
    "## Basic Syntax of a For Loop\n",
    "\n",
    "The basic syntax of a for loop in Python is as follows:\n",
    "\n",
    "```\n",
    "for variable in sequence:\n",
    "    # code to execute for each element in sequence\n",
    "```\n",
    "\n",
    "- The keyword `for` signals the start of the loop.\n",
    "- `variable` is a placeholder for each element in the sequence.\n",
    "- `in sequence` defines the sequence of elements to iterate over.\n",
    "- The colon `:` signals the end of the first line and the start of the code block.\n",
    "- The code block is indented and contains the code to execute for each element in the sequence."
   ]
  },
  {
   "attachments": {},
   "cell_type": "markdown",
   "metadata": {},
   "source": [
    "## Example of a For Loop\n",
    "\n",
    "Let's say you have a list of fruits and you want to print each fruit on a new line. You can use a for loop to accomplish this:"
   ]
  },
  {
   "cell_type": "code",
   "execution_count": null,
   "metadata": {},
   "outputs": [],
   "source": [
    "fruits = [\"apple\", \"banana\", \"orange\"]\n",
    "\n",
    "for fruit in fruits:\n",
    "    print(fruit)"
   ]
  },
  {
   "attachments": {},
   "cell_type": "markdown",
   "metadata": {},
   "source": [
    "## What is the `range()` function?\n",
    "\n",
    "The `range()` function is a built-in Python function that generates a sequence\n",
    "of numbers. It can be used to create a list of numbers, or to loop through a set\n",
    "of numbers in a `for` loop.  \n"
   ]
  },
  {
   "attachments": {},
   "cell_type": "markdown",
   "metadata": {},
   "source": [
    "## How to use the `range()` function in a `for` loop\n",
    "\n",
    "To use the `range()` function in a `for` loop, you first need to decide how many\n",
    "numbers you want to loop through. You can do this by specifying a number in the\n",
    "`range()` function, like so: "
   ]
  },
  {
   "cell_type": "code",
   "execution_count": null,
   "metadata": {},
   "outputs": [],
   "source": [
    "for i in range(5):\n",
    "    print(i)\n"
   ]
  },
  {
   "attachments": {},
   "cell_type": "markdown",
   "metadata": {},
   "source": [
    "In this example, the `range(5)` function generates a sequence of numbers from 0\n",
    "to 4 (since Python starts counting at 0), and the `for` loop iterates through\n",
    "each number in the sequence."
   ]
  },
  {
   "attachments": {},
   "cell_type": "markdown",
   "metadata": {},
   "source": [
    "Alternatively, you can specify a starting point, an ending point, and a step\n",
    "size in the `range()` function. \n",
    "\n",
    "The syntax is as follows:\n",
    "\n",
    "```\n",
    "range(start, stop, step)\n",
    "```\n",
    "\n",
    "- `start` (optional): The starting number of the sequence. If `start` is not specified, the sequence starts at 0.\n",
    "- `stop`: The end number of the sequence. The sequence will stop before reaching `stop`.\n",
    "- `step` (optional): The difference between each number in the sequence. If `step` is not specified, the default value is 1.\n",
    "\n"
   ]
  },
  {
   "cell_type": "code",
   "execution_count": null,
   "metadata": {},
   "outputs": [],
   "source": [
    "for i in range(1, 10, 2):\n",
    "    print(i)\n"
   ]
  },
  {
   "attachments": {},
   "cell_type": "markdown",
   "metadata": {},
   "source": [
    "In this example, the `range(1, 10, 2)` function generates a sequence of odd numbers from 1 to 9, and the `for` loop iterates through each number in the sequence."
   ]
  },
  {
   "attachments": {},
   "cell_type": "markdown",
   "metadata": {},
   "source": [
    "# Turtle\n",
    "\n",
    "Let's say we want to make our turtle draw a square that has a different color\n",
    "on each side. \n",
    "\n",
    "We would start with the following code and repeat it 4 times for each side of the\n",
    "square. We'd change the pencolor each time: \n",
    "```py\n",
    "squirtle.pencolor('red')\n",
    "squirtle.forward(40)\n",
    "squirtle.right(90)\n",
    "\n",
    "squirtle.pencolor('green')\n",
    "squirtle.forward(40)\n",
    "squirtle.right(90)\n",
    "\n",
    "...\n",
    "```\n",
    "\n",
    "But copying and pasting code is not necessary. Below is an example of how we can use a `for` loop and a list to draw the box:\n"
   ]
  },
  {
   "cell_type": "code",
   "execution_count": null,
   "metadata": {},
   "outputs": [],
   "source": [
    "from mobilechelonian import Turtle\n",
    "\n",
    "squirtle = Turtle()\n",
    "forward = 100\n",
    "degrees = 90\n",
    "\n",
    "colors  = ['red', 'green', 'blue', 'yellow']\n",
    "\n",
    "for color in colors:\n",
    "    squirtle.pencolor(color)\n",
    "    squirtle.forward(forward)\n",
    "    squirtle.right(degrees)\n"
   ]
  },
  {
   "attachments": {},
   "cell_type": "markdown",
   "metadata": {},
   "source": [
    "In the example above, notice how since only the color is changing each time, we use\n",
    "it as a variable in the `for` loop to set the color of the sides. The `for` loop\n",
    "repeats the same number of time as there are colors in the `colors` list."
   ]
  }
 ],
 "metadata": {
  "kernelspec": {
   "display_name": ".venv",
   "language": "python",
   "name": "python3"
  },
  "language_info": {
   "codemirror_mode": {
    "name": "ipython",
    "version": 3
   },
   "file_extension": ".py",
   "mimetype": "text/x-python",
   "name": "python",
   "nbconvert_exporter": "python",
   "pygments_lexer": "ipython3",
   "version": "3.8.10 (default, Nov 14 2022, 12:59:47) \n[GCC 9.4.0]"
  },
  "orig_nbformat": 4,
  "vscode": {
   "interpreter": {
    "hash": "65d994a2586566578e6f5f03c290bfd0b2867c7905a9622796af24a8a04596a2"
   }
  }
 },
 "nbformat": 4,
 "nbformat_minor": 2
}
