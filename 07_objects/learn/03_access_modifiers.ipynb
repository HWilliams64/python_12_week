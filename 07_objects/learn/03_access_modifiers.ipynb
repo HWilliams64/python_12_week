{
 "cells": [
  {
   "attachments": {},
   "cell_type": "markdown",
   "metadata": {},
   "source": [
    "# Understanding Access Modifiers in Python\n",
    "\n",
    "Access modifiers (also known as access specifiers) are used in object-oriented programming to set the accessibility of classes, methods, and properties. They determine the scope of a variable, method, or class in a program. However, Python doesn't support true access modifiers in the same way that languages like Java or C++ do. Still, there are certain conventions in Python that offer similar functionality.\n",
    "\n",
    "Let's go over the main ones:\n"
   ]
  },
  {
   "attachments": {},
   "cell_type": "markdown",
   "metadata": {},
   "source": [
    "\n",
    "## 1. No Underscore\n",
    "\n",
    "If a variable, method, or class has no leading underscore, it's considered public. This means it can be accessed from within its class, its subclass, and anywhere else. This is the default for most methods and variables in a class.\n",
    "\n",
    "Example:\n"
   ]
  },
  {
   "cell_type": "code",
   "execution_count": null,
   "metadata": {},
   "outputs": [],
   "source": [
    "\n",
    "class MyClass:\n",
    "    def __init__(self):\n",
    "        self.public_var = \"I'm public!\"\n",
    "\n",
    "my_instance = MyClass()\n",
    "print(my_instance.public_var)  # I'm public!\n"
   ]
  },
  {
   "attachments": {},
   "cell_type": "markdown",
   "metadata": {},
   "source": [
    "\n",
    "In this case, `public_var` is accessible from anywhere — inside the class, outside the class, in subclasses, and so on.\n"
   ]
  },
  {
   "attachments": {},
   "cell_type": "markdown",
   "metadata": {},
   "source": [
    "## 2. Single Underscore (`_`)\n",
    "\n",
    "A leading single underscore (like `_var`) is a Python convention that indicates a name is meant for internal use. It's considered a \"weak\" internal use or private variable, method, or class — i.e., it should not be accessed directly. But it's mostly only a convention, and Python doesn't stop you from accessing it directly.\n",
    "\n",
    "Example:\n"
   ]
  },
  {
   "cell_type": "code",
   "execution_count": null,
   "metadata": {},
   "outputs": [],
   "source": [
    "\n",
    "class MyClass:\n",
    "    def __init__(self):\n",
    "        self._internal_var = \"I'm internal!\"\n",
    "\n",
    "my_instance = MyClass()\n",
    "print(my_instance._internal_var)  # I'm internal!\n"
   ]
  },
  {
   "attachments": {},
   "cell_type": "markdown",
   "metadata": {},
   "source": [
    "\n",
    "Though we can access `_internal_var` just like `public_var`, by convention we wouldn't do so outside of its class.\n"
   ]
  },
  {
   "attachments": {},
   "cell_type": "markdown",
   "metadata": {},
   "source": [
    "\n",
    "## 3. Double Underscore (`__`)\n",
    "\n",
    "A double underscore prefix (like `__var`) causes the Python interpreter to rewrite the attribute name in order to avoid naming conflicts in subclasses. This is also known as name mangling. The interpreter changes the name of the variable in a way that makes it harder to create collisions when the class is extended later.\n",
    "\n",
    "Example:\n"
   ]
  },
  {
   "attachments": {},
   "cell_type": "markdown",
   "metadata": {},
   "source": [
    "\n",
    "```python\n",
    "class MyClass:\n",
    "    def __init__(self):\n",
    "        self.__private_var = \"I'm private!\"\n",
    "\n",
    "my_instance = MyClass()\n",
    "print(my_instance.__private_var)  # Raises an AttributeError\n",
    "```\n"
   ]
  },
  {
   "attachments": {},
   "cell_type": "markdown",
   "metadata": {},
   "source": [
    "\n",
    "If you try to access `__private_var` directly, you'll get an error. However, the variable is still accessible using its mangled name:\n"
   ]
  },
  {
   "cell_type": "code",
   "execution_count": null,
   "metadata": {},
   "outputs": [],
   "source": [
    "\n",
    "print(my_instance._MyClass__private_var)  # I'm private!\n"
   ]
  },
  {
   "cell_type": "markdown",
   "metadata": {},
   "source": [
    "\n",
    "The double underscore is a strong suggestion to \"stay away\" — it's meant for things that need to avoid naming conflicts with names defined by subclasses.\n",
    "\n",
    "Remember that Python's philosophy is \"we're all consenting adults here,\" meaning you shouldn't put arbitrary restrictions on accessing parts of a class. These conventions are in place to help avoid errors, not to enforce a strict level of variable access like in Java or C++."
   ]
  }
 ],
 "metadata": {
  "kernelspec": {
   "display_name": ".venv",
   "language": "python",
   "name": "python3"
  },
  "language_info": {
   "name": "python",
   "version": "3.8.10 (default, Nov 14 2022, 12:59:47) \n[GCC 9.4.0]"
  },
  "orig_nbformat": 4,
  "vscode": {
   "interpreter": {
    "hash": "65d994a2586566578e6f5f03c290bfd0b2867c7905a9622796af24a8a04596a2"
   }
  }
 },
 "nbformat": 4,
 "nbformat_minor": 2
}
