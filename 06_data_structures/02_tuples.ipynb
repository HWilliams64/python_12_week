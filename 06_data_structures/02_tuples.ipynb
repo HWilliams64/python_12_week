{
 "cells": [
  {
   "cell_type": "markdown",
   "metadata": {},
   "source": [
    "# Python Lists and Tuples Tutorial\n",
    "\n",
    "Welcome to this tutorial on lists and tuples in Python! We'll cover the basics of lists and tuples, how to add and remove elements, and how to iterate over them. This tutorial is designed for high school students, so we'll keep it simple and explain each code example step by step. \n"
   ]
  },
  {
   "attachments": {},
   "cell_type": "markdown",
   "metadata": {},
   "source": [
    "## Lists\n",
    "\n",
    "A list in Python is a mutable, ordered sequence of elements. Elements in a list\n",
    "can be of any data type, such as numbers, strings, or even other lists. \n",
    "\n",
    "### Creating a List \n",
    "\n",
    "To create a list, simply put a comma-separated sequence of elements inside\n",
    "square brackets []: "
   ]
  },
  {
   "cell_type": "code",
   "execution_count": null,
   "metadata": {},
   "outputs": [],
   "source": [
    "fruits = [\"apple\", \"banana\", \"cherry\"]\n",
    "print(fruits)"
   ]
  },
  {
   "attachments": {},
   "cell_type": "markdown",
   "metadata": {},
   "source": [
    "This code creates a list called fruits with three elements and then prints it out."
   ]
  },
  {
   "attachments": {},
   "cell_type": "markdown",
   "metadata": {},
   "source": [
    "### Adding Elements to a List\n",
    "\n",
    "To add an element to the end of a list, use the append() method:"
   ]
  },
  {
   "cell_type": "code",
   "execution_count": null,
   "metadata": {},
   "outputs": [],
   "source": [
    "fruits.append(\"orange\")\n",
    "print(fruits)"
   ]
  },
  {
   "attachments": {},
   "cell_type": "markdown",
   "metadata": {},
   "source": [
    "This code adds the string \"orange\" to the end of the fruits list and then prints it out."
   ]
  },
  {
   "attachments": {},
   "cell_type": "markdown",
   "metadata": {},
   "source": [
    "To insert an element at a specific position in the list, use the `insert()` method:"
   ]
  },
  {
   "cell_type": "code",
   "execution_count": null,
   "metadata": {},
   "outputs": [],
   "source": [
    "fruits.insert(1, \"grape\")\n",
    "print(fruits)"
   ]
  },
  {
   "attachments": {},
   "cell_type": "markdown",
   "metadata": {},
   "source": [
    "This code inserts the string \"grape\" at position 1 (Python uses zero-based indexing, so position 1 is the second position in the list) and then prints it out."
   ]
  },
  {
   "attachments": {},
   "cell_type": "markdown",
   "metadata": {},
   "source": [
    "### Removing Elements from a List\n",
    "\n",
    "To remove an element from a list by its value, use the remove() method:"
   ]
  },
  {
   "cell_type": "code",
   "execution_count": null,
   "metadata": {},
   "outputs": [],
   "source": [
    "fruits.remove(\"banana\")\n",
    "print(fruits)"
   ]
  },
  {
   "attachments": {},
   "cell_type": "markdown",
   "metadata": {},
   "source": [
    "This code removes the string \"banana\" from the fruits list and then prints it out."
   ]
  },
  {
   "attachments": {},
   "cell_type": "markdown",
   "metadata": {},
   "source": [
    "To remove an element from a list by its index, use the pop() method:"
   ]
  },
  {
   "cell_type": "code",
   "execution_count": null,
   "metadata": {},
   "outputs": [],
   "source": [
    "fruits.pop(1)\n",
    "print(fruits)"
   ]
  },
  {
   "attachments": {},
   "cell_type": "markdown",
   "metadata": {},
   "source": [
    "This code removes the element at position 1 in the `fruits` list and then prints it out."
   ]
  },
  {
   "attachments": {},
   "cell_type": "markdown",
   "metadata": {},
   "source": [
    "### Iterating Over a List\n",
    "\n",
    "To iterate over the elements in a list, you can use a `for` loop:"
   ]
  },
  {
   "cell_type": "code",
   "execution_count": null,
   "metadata": {},
   "outputs": [],
   "source": [
    "for fruit in fruits:\n",
    "    print(fruit)"
   ]
  },
  {
   "attachments": {},
   "cell_type": "markdown",
   "metadata": {},
   "source": [
    "This code prints each element in the fruits list, one at a time."
   ]
  },
  {
   "attachments": {},
   "cell_type": "markdown",
   "metadata": {},
   "source": [
    "## Tuples\n",
    "\n",
    "A tuple is similar to a list, but it's immutable, which means you cannot add or remove elements after it's created. Tuples are often used to represent a collection of related values where each value has a specific meaning."
   ]
  },
  {
   "attachments": {},
   "cell_type": "markdown",
   "metadata": {},
   "source": [
    "### Creating a Tuple\n",
    "\n",
    "To create a tuple, simply put a comma-separated sequence of elements inside parentheses `()`:"
   ]
  },
  {
   "cell_type": "code",
   "execution_count": null,
   "metadata": {},
   "outputs": [],
   "source": [
    "coordinates = (42.3601, -71.0589)\n",
    "print(coordinates)\n"
   ]
  },
  {
   "attachments": {},
   "cell_type": "markdown",
   "metadata": {},
   "source": [
    "This code creates a tuple called `coordinates` with two elements and then prints it out."
   ]
  },
  {
   "attachments": {},
   "cell_type": "markdown",
   "metadata": {},
   "source": [
    "### Accessing Elements in a Tuple\n",
    "\n",
    "To access an element in a tuple, use indexing just like you would with a list:"
   ]
  },
  {
   "cell_type": "code",
   "execution_count": null,
   "metadata": {},
   "outputs": [],
   "source": [
    "latitude = coordinates[0]\n",
    "longitude = coordinates[1]\n",
    "print(latitude, longitude)"
   ]
  },
  {
   "attachments": {},
   "cell_type": "markdown",
   "metadata": {},
   "source": [
    "This code accesses the elements at positions 0 and 1 in the `coordinates` tuple and then prints them out."
   ]
  },
  {
   "attachments": {},
   "cell_type": "markdown",
   "metadata": {},
   "source": [
    "### Iterating Over a Tuple\n",
    "\n",
    "To iterate over the elements in a tuple, you can use a for loop:"
   ]
  },
  {
   "cell_type": "code",
   "execution_count": null,
   "metadata": {},
   "outputs": [],
   "source": [
    "for coordinate in coordinates:\n",
    "    print(coordinate)"
   ]
  },
  {
   "attachments": {},
   "cell_type": "markdown",
   "metadata": {},
   "source": [
    "This code prints each element in the `coordinates` tuple, one at a time.\n",
    "\n",
    "And that's it! You've learned the basics of lists and tuples in Python, how to add and remove elements from lists, and how to iterate over both lists and tuples. Happy coding!"
   ]
  }
 ],
 "metadata": {
  "kernelspec": {
   "display_name": ".venv",
   "language": "python",
   "name": "python3"
  },
  "language_info": {
   "codemirror_mode": {
    "name": "ipython",
    "version": 3
   },
   "file_extension": ".py",
   "mimetype": "text/x-python",
   "name": "python",
   "nbconvert_exporter": "python",
   "pygments_lexer": "ipython3",
   "version": "3.8.10"
  },
  "orig_nbformat": 4,
  "vscode": {
   "interpreter": {
    "hash": "65d994a2586566578e6f5f03c290bfd0b2867c7905a9622796af24a8a04596a2"
   }
  }
 },
 "nbformat": 4,
 "nbformat_minor": 2
}
