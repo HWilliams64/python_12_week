{
 "cells": [
  {
   "attachments": {},
   "cell_type": "markdown",
   "metadata": {},
   "source": [
    "# Python Dictionary Tutorial for High School Students\n",
    "\n",
    "In this tutorial, we will learn about dictionaries in Python. We will cover the following topics:\n",
    "\n",
    "1. What is a dictionary?\n",
    "2. Creating a dictionary\n",
    "3. Adding elements to a dictionary\n",
    "4. Removing elements from a dictionary\n",
    "5. Iterating over a dictionary"
   ]
  },
  {
   "attachments": {},
   "cell_type": "markdown",
   "metadata": {},
   "source": [
    "## What is a dictionary?\n",
    "\n",
    "A dictionary is a data structure in Python that stores key-value pairs. The keys\n",
    "are unique, and each key has a corresponding value. Dictionaries are useful when\n",
    "you need to store and retrieve data in pairs, like a phone book where names are\n",
    "keys and phone numbers are values. "
   ]
  },
  {
   "attachments": {},
   "cell_type": "markdown",
   "metadata": {},
   "source": [
    "## Creating a dictionary\n",
    "To create a dictionary, you can use the curly braces {} and separate keys and\n",
    "values with a colon :. Here's an example: "
   ]
  },
  {
   "cell_type": "code",
   "execution_count": null,
   "metadata": {},
   "outputs": [],
   "source": [
    "my_dict = {\"apple\": 2, \"banana\": 2, \"cherry\": 3, \"apple\": 1}\n",
    "print(my_dict)"
   ]
  },
  {
   "attachments": {},
   "cell_type": "markdown",
   "metadata": {},
   "source": [
    "In this example, we created a dictionary named `my_dict` with three key-value pairs. The keys are \"apple\", \"banana\", and \"cherry\", and their corresponding values are 1, 2, and 3."
   ]
  },
  {
   "attachments": {},
   "cell_type": "markdown",
   "metadata": {},
   "source": [
    "## Adding elements to a dictionary\n",
    "\n",
    "To add a new key-value pair to a dictionary, you can use the square bracket []\n",
    "notation with the new key and assign a value to it. For example: "
   ]
  },
  {
   "cell_type": "code",
   "execution_count": null,
   "metadata": {},
   "outputs": [],
   "source": [
    "my_dict[\"orange\"] = 4\n",
    "print(my_dict)\n",
    "my_dict[\"orange\"] = 5\n",
    "print(my_dict)\n"
   ]
  },
  {
   "attachments": {},
   "cell_type": "markdown",
   "metadata": {},
   "source": [
    "Now, the `my_dict` dictionary has a new key-value pair: `\"orange\": 4`"
   ]
  },
  {
   "attachments": {},
   "cell_type": "markdown",
   "metadata": {},
   "source": [
    "## Removing elements from a dictionary\n",
    "\n",
    "To remove a key-value pair from a dictionary, you can use the `del` keyword with the key that you want to remove. Here's an example:"
   ]
  },
  {
   "cell_type": "code",
   "execution_count": null,
   "metadata": {},
   "outputs": [],
   "source": [
    "del my_dict[\"banana\"]\n",
    "print(my_dict)\n"
   ]
  },
  {
   "attachments": {},
   "cell_type": "markdown",
   "metadata": {},
   "source": [
    "After executing this code, the key \"banana\" and its corresponding value 2 will be removed from my_dict."
   ]
  },
  {
   "attachments": {},
   "cell_type": "markdown",
   "metadata": {},
   "source": [
    "## Iterating over a dictionary\n",
    "\n",
    "You can use a for loop to iterate over the keys or the key-value pairs of a dictionary. To iterate over the keys, you can use the .keys() method:"
   ]
  },
  {
   "cell_type": "code",
   "execution_count": null,
   "metadata": {},
   "outputs": [],
   "source": [
    "for key in my_dict:\n",
    "    print(key)"
   ]
  },
  {
   "attachments": {},
   "cell_type": "markdown",
   "metadata": {},
   "source": [
    "To iterate over the key-value pairs, you can use the .items() method:"
   ]
  },
  {
   "cell_type": "code",
   "execution_count": null,
   "metadata": {},
   "outputs": [],
   "source": [
    "print(my_dict.items())\n",
    "for key, value in my_dict.items():\n",
    "    print(key, value)"
   ]
  },
  {
   "attachments": {},
   "cell_type": "markdown",
   "metadata": {},
   "source": [
    "That's it! Now you know how to create, add, remove, and iterate over elements in a Python dictionary. Happy coding!"
   ]
  }
 ],
 "metadata": {
  "kernelspec": {
   "display_name": ".venv",
   "language": "python",
   "name": "python3"
  },
  "language_info": {
   "codemirror_mode": {
    "name": "ipython",
    "version": 3
   },
   "file_extension": ".py",
   "mimetype": "text/x-python",
   "name": "python",
   "nbconvert_exporter": "python",
   "pygments_lexer": "ipython3",
   "version": "3.8.10"
  },
  "orig_nbformat": 4,
  "vscode": {
   "interpreter": {
    "hash": "65d994a2586566578e6f5f03c290bfd0b2867c7905a9622796af24a8a04596a2"
   }
  }
 },
 "nbformat": 4,
 "nbformat_minor": 2
}
