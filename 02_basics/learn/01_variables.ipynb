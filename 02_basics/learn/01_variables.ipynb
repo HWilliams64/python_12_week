{
 "cells": [
  {
   "attachments": {},
   "cell_type": "markdown",
   "metadata": {},
   "source": [
    "# Variables in Python\n",
    "\n",
    "Hey there! Are you excited to learn about variables in Python? Variables are like containers that hold different types of data like numbers, text, and more. We can use them to make our programs more dynamic and interactive. "
   ]
  },
  {
   "attachments": {},
   "cell_type": "markdown",
   "metadata": {},
   "source": [
    "## Assigning data to variables\n",
    "\n",
    "<style>\n",
    "html,body        {height: 100%;}\n",
    ".wrapper         {width: 80%; max-width: 1280px; height: 100%; margin: 0 auto; background: rgba(255, 255, 255, .0); padding-bottom: 50px}\n",
    ".h_iframe        {position: relative; padding-top: 56%;}\n",
    ".h_iframe iframe {position: absolute; top: 0; left: 0; width: 100%; height: 100%;}\n",
    "</style>\n",
    "\n",
    "<div class=\"wrapper\">\n",
    "    <div class=\"h_iframe\">\n",
    "        <iframe height=\"2\" width=\"2\" src=\"https://www.youtube.com/embed/vykCwRejSt0\" title=\"YouTube video player\" frameborder=\"0\" allow=\"accelerometer; autoplay; clipboard-write; encrypted-media; gyroscope; picture-in-picture; web-share\" allowfullscreen></iframe>\n",
    "    </div>\n",
    "</div>\n",
    "\n",
    "\n",
    "To assign data to a variable, we use the equals sign `=`. For example:"
   ]
  },
  {
   "cell_type": "code",
   "execution_count": null,
   "metadata": {},
   "outputs": [],
   "source": [
    "name = \"Yoda\"\n",
    "age = 900\n"
   ]
  },
  {
   "attachments": {},
   "cell_type": "markdown",
   "metadata": {},
   "source": [
    "Here, we have created two variables, `name` and `age`, and assigned them to the values \"Yoda\" and 900, respectively. The quotes around \"Yoda\" indicate that it is a string, which is a type of data that represents text. "
   ]
  },
  {
   "attachments": {},
   "cell_type": "markdown",
   "metadata": {},
   "source": [
    "## Printing text to the console\n",
    "\n",
    "<style>\n",
    "html,body        {height: 100%;}\n",
    ".wrapper         {width: 80%; max-width: 1280px; height: 100%; margin: 0 auto; background: rgba(255, 255, 255, .0); padding-bottom: 50px}\n",
    ".h_iframe        {position: relative; padding-top: 56%;}\n",
    ".h_iframe iframe {position: absolute; top: 0; left: 0; width: 100%; height: 100%;}\n",
    "</style>\n",
    "\n",
    "<div class=\"wrapper\">\n",
    "    <div class=\"h_iframe\">\n",
    "        <iframe height=\"2\" width=\"2\" src=\"https://www.youtube.com/embed/90XKxrn3tG8\" title=\"YouTube video player\" frameborder=\"0\" allow=\"accelerometer; autoplay; clipboard-write; encrypted-media; gyroscope; picture-in-picture; web-share\" allowfullscreen></iframe>\n",
    "    </div>\n",
    "</div>\n",
    "\n",
    "Now that we have assigned some data to variables, let's print them to the console. To do this, we use the `print()` function. For example:"
   ]
  },
  {
   "cell_type": "code",
   "execution_count": null,
   "metadata": {},
   "outputs": [],
   "source": [
    "print(\"My name is\", name, \"and I am\", age, \"years old.\")\n"
   ]
  },
  {
   "attachments": {},
   "cell_type": "markdown",
   "metadata": {},
   "source": [
    "This will output the following text:\n",
    "\n",
    "```\n",
    "My name is Yoda and I am 900 years old.\n",
    "```\n",
    "\n",
    "The `print()` function takes one or more arguments, which can be variables, strings, or other types of data. We separated the arguments with commas to include them in the same line."
   ]
  },
  {
   "attachments": {},
   "cell_type": "markdown",
   "metadata": {},
   "source": [
    "## Developing an application that accepts user input\n",
    "\n",
    "Let's develop an application that accepts user input and assigns it to a variable. To do this, we use the `input()` function. For example:"
   ]
  },
  {
   "cell_type": "code",
   "execution_count": null,
   "metadata": {},
   "outputs": [],
   "source": [
    "favorite_color = input(\"What is your favorite color? \")\n",
    "print(\"Your favorite color is\", favorite_color)"
   ]
  },
  {
   "attachments": {},
   "cell_type": "markdown",
   "metadata": {},
   "source": [
    "This will prompt the user to enter their favorite color, and then assign it to the variable `favorite_color`. We can then print it back to the console to confirm what the user entered."
   ]
  },
  {
   "attachments": {},
   "cell_type": "markdown",
   "metadata": {},
   "source": [
    "## Other Data Types\n",
    "\n",
    "Let's dive deeper into the different types of data types in Python!"
   ]
  },
  {
   "attachments": {},
   "cell_type": "markdown",
   "metadata": {},
   "source": [
    "### Integer (int)\n",
    "\n",
    "An integer is a whole number, without a decimal point, that can be positive, negative, or zero. In Python, we use the `int` data type to represent integers. For example:"
   ]
  },
  {
   "cell_type": "code",
   "execution_count": null,
   "metadata": {},
   "outputs": [],
   "source": [
    "age = 20\n",
    "\n",
    "four_plus_the_age = 4 + age\n",
    "print(\"4 +\", age, \"=\", four_plus_the_age)\n",
    "\n",
    "four_minus_the_age = 4 - age\n",
    "print(\"4 -\", age, \"=\", four_minus_the_age)\n",
    "\n",
    "four_times_the_age = 4 * age\n",
    "print(\"4 *\", age, \"=\", four_times_the_age)\n",
    "\n",
    "four_divided_by_the_age = 4 / age\n",
    "print(\"4 /\", age, \"=\", four_divided_by_the_age)\n"
   ]
  },
  {
   "attachments": {},
   "cell_type": "markdown",
   "metadata": {},
   "source": [
    "Here, we have assigned the integer value 20 to the variable `age`. We can perform mathematical operations on integers, such as addition, subtraction, multiplication, and division."
   ]
  },
  {
   "attachments": {},
   "cell_type": "markdown",
   "metadata": {},
   "source": [
    "### Floating-point (float)\n",
    "\n",
    "A floating-point number, or float, is a number that has a decimal point. In Python, we use the `float` data type to represent floating-point numbers. For example:"
   ]
  },
  {
   "cell_type": "code",
   "execution_count": null,
   "metadata": {},
   "outputs": [],
   "source": [
    "pi = 3.14\n",
    "\n",
    "print(pi**2)"
   ]
  },
  {
   "attachments": {},
   "cell_type": "markdown",
   "metadata": {},
   "source": [
    "This code assigns the value 3.14 to a variable called `pi`. The next line uses the `print()` function to output the result of `pi` raised to the power of 2, which is written as `pi**2`. The output will be the value of `pi` (3.14) multiplied by itself, which is 9.8596."
   ]
  },
  {
   "attachments": {},
   "cell_type": "markdown",
   "metadata": {},
   "source": [
    "### Boolean (bool)\n",
    "\n",
    "<style>\n",
    "html,body        {height: 100%;}\n",
    ".wrapper         {width: 80%; max-width: 1280px; height: 100%; margin: 0 auto; background: rgba(255, 255, 255, .0); padding-bottom: 50px}\n",
    ".h_iframe        {position: relative; padding-top: 56%;}\n",
    ".h_iframe iframe {position: absolute; top: 0; left: 0; width: 100%; height: 100%;}\n",
    "</style>\n",
    "\n",
    "<div class=\"wrapper\">\n",
    "    <div class=\"h_iframe\">\n",
    "        <iframe height=\"2\" width=\"2\" src=\"https://www.youtube.com/embed/yggOMDbU1eE\" title=\"YouTube video player\" frameborder=\"0\" allow=\"accelerometer; autoplay; clipboard-write; encrypted-media; gyroscope; picture-in-picture; web-share\" allowfullscreen></iframe>\n",
    "    </div>\n",
    "</div>\n",
    "\n",
    "A Boolean, or bool, is a data type that can have one of two values: `True` or `False`. In Python, we use the `bool` data type to represent Boolean values. For example:"
   ]
  },
  {
   "cell_type": "code",
   "execution_count": null,
   "metadata": {},
   "outputs": [],
   "source": [
    "is_jedi = True\n"
   ]
  },
  {
   "attachments": {},
   "cell_type": "markdown",
   "metadata": {},
   "source": [
    "Here, we have assigned the Boolean value `True` to the variable `is_jedi`. We can use Boolean values in conditional statements, such as `if` statements, to make decisions in our programs.\n"
   ]
  },
  {
   "attachments": {},
   "cell_type": "markdown",
   "metadata": {},
   "source": [
    "## Type casting\n",
    "\n",
    "<style>\n",
    "html,body        {height: 100%;}\n",
    ".wrapper         {width: 80%; max-width: 1280px; height: 100%; margin: 0 auto; background: rgba(255, 255, 255, .0); padding-bottom: 50px}\n",
    ".h_iframe        {position: relative; padding-top: 56%;}\n",
    ".h_iframe iframe {position: absolute; top: 0; left: 0; width: 100%; height: 100%;}\n",
    "</style>\n",
    "\n",
    "<div class=\"wrapper\">\n",
    "    <div class=\"h_iframe\">\n",
    "        <iframe height=\"2\" width=\"2\" src=\"https://www.youtube.com/embed/t67uh911RmM\" title=\"YouTube video player\" frameborder=\"0\" allow=\"accelerometer; autoplay; clipboard-write; encrypted-media; gyroscope; picture-in-picture; web-share\" allowfullscreen></iframe>\n",
    "    </div>\n",
    "</div>\n",
    "\n",
    "In Python, we can also convert one data type to another using type casting. For example, we can convert an string to a integer like this:"
   ]
  },
  {
   "cell_type": "code",
   "execution_count": null,
   "metadata": {},
   "outputs": [],
   "source": [
    "string = \"10\"\n",
    "integer = int(string)\n",
    "print(integer+integer, string+string)\n"
   ]
  },
  {
   "attachments": {},
   "cell_type": "markdown",
   "metadata": {},
   "source": [
    "This code assigns the string value \"10\" to a variable called `string`. The next line uses the `int()` function to convert the string value to an integer and assigns it to a new variable called `integer`. The `int()` function is a type of type casting that converts a string to an integer. So, `integer` will now have the integer value 10."
   ]
  },
  {
   "attachments": {},
   "cell_type": "markdown",
   "metadata": {},
   "source": [
    "# Apply it to an application\n",
    "\n",
    "Now let's take what we've learned and create an application that moves a virtual\n",
    "turtle named `squirtle`."
   ]
  },
  {
   "cell_type": "code",
   "execution_count": null,
   "metadata": {},
   "outputs": [],
   "source": [
    "from mobilechelonian import Turtle\n",
    "\n",
    "squirtle = Turtle()\n",
    "speed = 1\n",
    "\n",
    "squirtle.speed(speed)\n",
    "squirtle.forward(100)\n"
   ]
  },
  {
   "attachments": {},
   "cell_type": "markdown",
   "metadata": {},
   "source": [
    "So, in this code, a little turtle named `squirtle` comes to life! With the help\n",
    "of some special magic from `mobilechelonian`, we are able to control\n",
    "`squirtle`'s movements.  \n",
    "\n",
    "We first set `squirtle`'s speed to be `1` by calling the\n",
    "`squirtle.speed(speed)` function. This is a pretty leisurely pace.\n",
    "Then, we tell `squirtle` to move forward `100` units with the help of the\n",
    "`squirtle.forward()` function. And just like that, `squirtle` scurries along,\n",
    "leaving a trail behind him.  \n",
    "\n",
    "We need to `squirtle.` before we use `forward()` or the `speed()` function or\n",
    "else `squirtle` won't know we're talking to him."
   ]
  },
  {
   "cell_type": "markdown",
   "metadata": {},
   "source": [
    "# Colors"
   ]
  },
  {
   "cell_type": "code",
   "execution_count": null,
   "metadata": {},
   "outputs": [],
   "source": [
    "from mobilechelonian import Turtle\n",
    "\n",
    "squirtle = Turtle()\n",
    "speed = 1\n",
    "pen_color = \"red\"\n",
    "\n",
    "squirtle.pencolor(pen_color)\n",
    "squirtle.speed(speed)\n",
    "squirtle.forward(100)"
   ]
  },
  {
   "attachments": {},
   "cell_type": "markdown",
   "metadata": {},
   "source": [
    "In this code, we introduce Squirtle the turtle again, but with an added feature:\n",
    "the color of Squirtle's pen! \n",
    "\n",
    "We first define a variable called `pen_color` and set it to the string value\n",
    "\"red\". This means that when Squirtle moves, he will leave a trail of red behind\n",
    "him.  \n",
    "\n",
    "We then use the `pencolor()` function to set the color of Squirtle's pen to the\n",
    "value of `pen_color`, which is \"red\".  \n",
    "\n",
    "So, as Squirtle moves forward 100 units, he leaves a trail of red behind him.\n",
    "It's like he's painting a picture as he goes! "
   ]
  },
  {
   "attachments": {},
   "cell_type": "markdown",
   "metadata": {},
   "source": [
    "## Turning\n",
    "\n",
    "This code moves Squirtle the turtle forward, turns him 90 degrees to the right, and then moves him forward again in the new direction."
   ]
  },
  {
   "cell_type": "code",
   "execution_count": null,
   "metadata": {},
   "outputs": [],
   "source": [
    "from mobilechelonian import Turtle\n",
    "\n",
    "squirtle = Turtle()\n",
    "speed = 1\n",
    "forward = 100\n",
    "degrees = 90\n",
    "\n",
    "squirtle.forward(forward)\n",
    "squirtle.right(degrees)\n",
    "squirtle.forward(forward)\n"
   ]
  },
  {
   "attachments": {},
   "cell_type": "markdown",
   "metadata": {},
   "source": [
    "In this code, we have Squirtle the turtle again, but this time we're adding a new twist - literally! \n",
    "\n",
    "We tell Squirtle to move forward 100 units, and he obediently scurries forward in a straight line. But then, we tell him to turn right by 90 degrees using the `right()` function. \n",
    "\n",
    "So, Squirtle turns to his right and is now facing in a different direction. We then tell him to move forward another 100 units, but this time he moves in the new direction he's facing. \n",
    "\n",
    "It's like Squirtle is exploring a maze and making turns as he goes, following our commands. Where will he go next? The possibilities are endless!"
   ]
  }
 ],
 "metadata": {
  "kernelspec": {
   "display_name": ".venv",
   "language": "python",
   "name": "python3"
  },
  "language_info": {
   "codemirror_mode": {
    "name": "ipython",
    "version": 3
   },
   "file_extension": ".py",
   "mimetype": "text/x-python",
   "name": "python",
   "nbconvert_exporter": "python",
   "pygments_lexer": "ipython3",
   "version": "3.8.10 (default, Nov 14 2022, 12:59:47) \n[GCC 9.4.0]"
  },
  "orig_nbformat": 4,
  "vscode": {
   "interpreter": {
    "hash": "65d994a2586566578e6f5f03c290bfd0b2867c7905a9622796af24a8a04596a2"
   }
  }
 },
 "nbformat": 4,
 "nbformat_minor": 2
}
