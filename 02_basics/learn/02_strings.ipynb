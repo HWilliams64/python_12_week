{
 "cells": [
  {
   "attachments": {},
   "cell_type": "markdown",
   "metadata": {},
   "source": [
    "# Introduction:\n",
    "\n",
    "Welcome, aspiring Pythonistas! Today, we embark on an exciting journey into the realm of strings. In this tutorial, we'll uncover the power of manipulating text in Python using various string methods. So, fasten your seatbelts and get ready to become string manipulation wizards!"
   ]
  },
  {
   "attachments": {},
   "cell_type": "markdown",
   "metadata": {},
   "source": [
    "## What is a String?\n",
    "\n",
    "<style>\n",
    "html,body        {height: 100%;}\n",
    ".wrapper         {width: 80%; max-width: 1280px; height: 100%; margin: 0 auto; background: rgba(255, 255, 255, .0); padding-bottom: 50px}\n",
    ".h_iframe        {position: relative; padding-top: 56%;}\n",
    ".h_iframe iframe {position: absolute; top: 0; left: 0; width: 100%; height: 100%;}\n",
    "</style>\n",
    "\n",
    "<div class=\"wrapper\">\n",
    "    <div class=\"h_iframe\">\n",
    "        <iframe height=\"2\" width=\"2\" src=\"https://www.youtube.com/embed/V3__h0bESo4\" title=\"YouTube video player\" frameborder=\"0\" allow=\"accelerometer; autoplay; clipboard-write; encrypted-media; gyroscope; picture-in-picture; web-share\" allowfullscreen></iframe>\n",
    "    </div>\n",
    "</div>\n",
    "\n",
    "In Python, a string is a sequence of characters enclosed within quotation marks. It can be created using either single quotes (`''`), double quotes (`\"\"`) or triple quotes (`\"\"\"`)."
   ]
  },
  {
   "cell_type": "code",
   "execution_count": null,
   "metadata": {},
   "outputs": [],
   "source": [
    "message = 'Hello, World!'\n",
    "print(message)\n",
    "\n",
    "name = \"Alice\"\n",
    "print(name)\n",
    "\n",
    "multiline = \"\"\"Python is\n",
    "awesome!\"\"\"\n",
    "print(multiline)"
   ]
  },
  {
   "attachments": {},
   "cell_type": "markdown",
   "metadata": {},
   "source": [
    "## Accessing Characters in a String:\n",
    "\n",
    "<style>\n",
    "html,body        {height: 100%;}\n",
    ".wrapper         {width: 80%; max-width: 1280px; height: 100%; margin: 0 auto; background: rgba(255, 255, 255, .0); padding-bottom: 50px}\n",
    ".h_iframe        {position: relative; padding-top: 56%;}\n",
    ".h_iframe iframe {position: absolute; top: 0; left: 0; width: 100%; height: 100%;}\n",
    "</style>\n",
    "\n",
    "<div class=\"wrapper\">\n",
    "    <div class=\"h_iframe\">\n",
    "        <iframe height=\"2\" width=\"2\" src=\"https://www.youtube.com/embed/__tILikbgVI\" title=\"YouTube video player\" frameborder=\"0\" allow=\"accelerometer; autoplay; clipboard-write; encrypted-media; gyroscope; picture-in-picture; web-share\" allowfullscreen></iframe>\n",
    "    </div>\n",
    "</div>\n",
    "\n",
    "Each character in a string can be accessed using its index. In Python, the\n",
    "indices start from 0 for the first character and increment by 1 for each\n",
    "subsequent character."
   ]
  },
  {
   "cell_type": "code",
   "execution_count": null,
   "metadata": {},
   "outputs": [],
   "source": [
    "message = \"Hello, World!\"\n",
    "print(message[0])  # Output: 'H'\n",
    "print(message[7])  # Output: 'W'"
   ]
  },
  {
   "attachments": {},
   "cell_type": "markdown",
   "metadata": {},
   "source": [
    "## Common String Methods:\n",
    "\n",
    "Python provides a rich set of string methods that allow us to manipulate and\n",
    "transform strings in various ways. Let's explore some commonly used ones: "
   ]
  },
  {
   "attachments": {},
   "cell_type": "markdown",
   "metadata": {},
   "source": [
    " `len()` - Returns the length (number of characters) of a string.\n",
    "\n",
    "<style>\n",
    "html,body        {height: 100%;}\n",
    ".wrapper         {width: 80%; max-width: 1280px; height: 100%; margin: 0 auto; background: rgba(255, 255, 255, .0); padding-bottom: 50px}\n",
    ".h_iframe        {position: relative; padding-top: 56%;}\n",
    ".h_iframe iframe {position: absolute; top: 0; left: 0; width: 100%; height: 100%;}\n",
    "</style>\n",
    "\n",
    "<div class=\"wrapper\">\n",
    "    <div class=\"h_iframe\">\n",
    "        <iframe height=\"2\" width=\"2\" src=\"https://www.youtube.com/embed/8eYab050adM\" title=\"YouTube video player\" frameborder=\"0\" allow=\"accelerometer; autoplay; clipboard-write; encrypted-media; gyroscope; picture-in-picture; web-share\" allowfullscreen></iframe>\n",
    "    </div>\n",
    "</div>"
   ]
  },
  {
   "cell_type": "code",
   "execution_count": null,
   "metadata": {},
   "outputs": [],
   "source": [
    "message = \"Hello, World!\"\n",
    "print(len(message))  # Output: 13"
   ]
  },
  {
   "attachments": {},
   "cell_type": "markdown",
   "metadata": {},
   "source": [
    "`lower()` and `upper()` - Converts a string to lowercase or uppercase, respectively."
   ]
  },
  {
   "cell_type": "code",
   "execution_count": null,
   "metadata": {},
   "outputs": [],
   "source": [
    "message = \"Hello, World!\"\n",
    "print(message.lower())  # Output: \"hello, world!\"\n",
    "print(message.upper())  # Output: \"HELLO, WORLD!\""
   ]
  },
  {
   "attachments": {},
   "cell_type": "markdown",
   "metadata": {},
   "source": [
    "`count()` - Returns the number of occurrences of a substring in a string."
   ]
  },
  {
   "cell_type": "code",
   "execution_count": null,
   "metadata": {},
   "outputs": [],
   "source": [
    "message = \"Hello, World!\"\n",
    "print(message.count('l'))  # Output: 3\n",
    "print(message.count('World'))  # Output: 1"
   ]
  },
  {
   "attachments": {},
   "cell_type": "markdown",
   "metadata": {},
   "source": [
    "`replace()` - Replaces all occurrences of a substring with another substring."
   ]
  },
  {
   "cell_type": "code",
   "execution_count": null,
   "metadata": {},
   "outputs": [],
   "source": [
    "message = \"Hello, World!\"\n",
    "new_message = message.replace(\"Hello\", \"Hi\")\n",
    "print(new_message)  # Output: \"Hi, World!\""
   ]
  },
  {
   "attachments": {},
   "cell_type": "markdown",
   "metadata": {},
   "source": [
    "`split()` - Splits a string into a list of substrings based on a delimiter."
   ]
  },
  {
   "cell_type": "code",
   "execution_count": null,
   "metadata": {},
   "outputs": [],
   "source": [
    "message = \"Hello, World!\"\n",
    "words = message.split(\", \")\n",
    "print(words)  # Output: ['Hello', 'World!']\n"
   ]
  },
  {
   "attachments": {},
   "cell_type": "markdown",
   "metadata": {},
   "source": [
    "If you don't specify any arguments to the `split()` method it will split the\n",
    "words based on any blank spaces (spaces or new line charterers)"
   ]
  },
  {
   "cell_type": "code",
   "execution_count": null,
   "metadata": {},
   "outputs": [],
   "source": [
    "message = \"Hello world how are you?\"\n",
    "words = message.split()\n",
    "print(words)  # Output: ['Hello', 'world' 'how', 'are', 'you?']\n"
   ]
  },
  {
   "attachments": {},
   "cell_type": "markdown",
   "metadata": {},
   "source": [
    "`join()` - Joins a list of strings into a single string using a specified delimiter."
   ]
  },
  {
   "cell_type": "code",
   "execution_count": null,
   "metadata": {},
   "outputs": [],
   "source": [
    "words = ['Hello', 'World!']\n",
    "message = \", \".join(words)\n",
    "print(message)  # Output: \"Hello, World!\"\n"
   ]
  },
  {
   "attachments": {},
   "cell_type": "markdown",
   "metadata": {},
   "source": [
    "`startswith()` and `endswith()` - Checks if a string starts or ends with a specified substring."
   ]
  },
  {
   "cell_type": "code",
   "execution_count": null,
   "metadata": {},
   "outputs": [],
   "source": [
    "message = \"Hello, World!\"\n",
    "print(message.startswith(\"Hello\"))  # Output: True\n",
    "print(message.endswith(\"World!\"))  # Output: True"
   ]
  },
  {
   "attachments": {},
   "cell_type": "markdown",
   "metadata": {},
   "source": [
    "## String Concatenation:\n",
    "\n",
    "String concatenation is the process of combining multiple strings into a single\n",
    "string. In Python, there are a few ways to achieve string concatenation. \n"
   ]
  },
  {
   "attachments": {},
   "cell_type": "markdown",
   "metadata": {},
   "source": [
    "### Using the `+` Operator:\n",
    "\n",
    "The + operator allows us to concatenate strings by simply using the + symbol between them.\n",
    "\n",
    "Example:"
   ]
  },
  {
   "cell_type": "code",
   "execution_count": null,
   "metadata": {},
   "outputs": [],
   "source": [
    "greeting = \"Hello\"\n",
    "name = \"Alice\"\n",
    "message = greeting + \", \" + name + \"! \" + \"How are you today?\"\n",
    "print(message)  # Output: \"Hello, Alice! How are you today?\""
   ]
  },
  {
   "attachments": {},
   "cell_type": "markdown",
   "metadata": {},
   "source": [
    "### Using the `+=` Operator:\n",
    "\n",
    "The += operator is a shorthand notation for concatenating and assigning the result back to the original string.\n",
    "\n",
    "Example:"
   ]
  },
  {
   "cell_type": "code",
   "execution_count": null,
   "metadata": {},
   "outputs": [],
   "source": [
    "greeting = \"Hello\"\n",
    "name = \"Bob\"\n",
    "greeting += \", \" + name + \"!\"\n",
    "print(greeting)  # Output: \"Hello, Bob!\"\n"
   ]
  },
  {
   "attachments": {},
   "cell_type": "markdown",
   "metadata": {},
   "source": [
    "## f-strings (formatted strings):\n",
    "\n",
    "Formatted strings, also known as f-strings, provide a concise and expressive way to concatenate strings by embedding variables or expressions inside curly braces `{}`.\n",
    "\n",
    "Example:"
   ]
  },
  {
   "cell_type": "code",
   "execution_count": null,
   "metadata": {},
   "outputs": [],
   "source": [
    "name = \"Charlie\"\n",
    "age = 25\n",
    "message = f\"My name is {name} and I am {age} years old.\"\n",
    "print(message)  # Output: \"My name is Charlie and I am 25 years old.\"\n"
   ]
  },
  {
   "attachments": {},
   "cell_type": "markdown",
   "metadata": {},
   "source": [
    "It's important to note that string concatenation can be performed not only with string literals but also with variables, expressions, and the results of other string operations."
   ]
  }
 ],
 "metadata": {
  "kernelspec": {
   "display_name": ".venv",
   "language": "python",
   "name": "python3"
  },
  "language_info": {
   "name": "python",
   "version": "3.8.10 (default, Nov 14 2022, 12:59:47) \n[GCC 9.4.0]"
  },
  "orig_nbformat": 4,
  "vscode": {
   "interpreter": {
    "hash": "65d994a2586566578e6f5f03c290bfd0b2867c7905a9622796af24a8a04596a2"
   }
  }
 },
 "nbformat": 4,
 "nbformat_minor": 2
}
