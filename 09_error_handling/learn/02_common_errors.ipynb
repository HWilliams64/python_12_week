{
 "cells": [
  {
   "attachments": {},
   "cell_type": "markdown",
   "metadata": {},
   "source": [
    "# Common Python Errors\n",
    "\n",
    "In your programming journey, you'll inevitably encounter errors and exceptions. But worry not! They are not your enemies but rather friendly guides pointing you in the right direction. Understanding common errors will help you debug your code more effectively and make your programming experience smoother. In this tutorial, we will delve into some common Python errors, their causes, and how to handle them.\n",
    "\n",
    "## Python's Exception Hierarchy\n",
    "\n",
    "First, let's discuss Python's exception hierarchy. At the top of the hierarchy is `BaseException`, which is the base class for all built-in exceptions. Below `BaseException` is `Exception`, which is the base class for almost all exceptions you're likely to encounter. Other types of exceptions are subclasses of `Exception`. Here's a simplified hierarchy:\n",
    "\n",
    "- `BaseException`\n",
    "  - `Exception`\n",
    "    - `ArithmeticError`\n",
    "      - `ZeroDivisionError`\n",
    "    - `LookupError`\n",
    "      - `IndexError`\n",
    "      - `KeyError`\n",
    "    - `TypeError`\n",
    "    - `ValueError`\n",
    "\n",
    "Understanding the exception hierarchy can be helpful when you want to catch multiple types of exceptions using a single `except` clause. For instance, you could catch all `LookupError` exceptions (which include `IndexError` and `KeyError`) with `except LookupError`.\n"
   ]
  },
  {
   "attachments": {},
   "cell_type": "markdown",
   "metadata": {},
   "source": [
    "\n",
    "## Common Errors and Exceptions\n",
    "\n",
    "Now, let's discuss some common exceptions in Python:\n"
   ]
  },
  {
   "attachments": {},
   "cell_type": "markdown",
   "metadata": {},
   "source": [
    "\n",
    "### 1. SyntaxError\n",
    "\n",
    "`SyntaxError` is probably the first error you'll encounter when you start learning Python. As the name suggests, this error is raised when there is incorrect syntax in the code.\n",
    "\n",
    "For instance, forgetting a colon at the end of an `if` statement would raise a `SyntaxError`:\n",
    "\n",
    "```python\n",
    "if 5 > 2\n",
    "    print(\"Five is greater than two!\")\n",
    "```\n",
    "\n",
    "To fix this, you just need to add the colon at the end of the `if` statement:\n",
    "\n",
    "```python\n",
    "if 5 > 2:\n",
    "    print(\"Five is greater than two!\")\n",
    "```\n"
   ]
  },
  {
   "attachments": {},
   "cell_type": "markdown",
   "metadata": {},
   "source": [
    "\n",
    "### 2. TypeError\n",
    "\n",
    "`TypeError` is raised when an operation or function is applied to an object of an inappropriate type.\n",
    "\n",
    "For example, trying to add a string and an integer will raise a `TypeError`:\n",
    "\n",
    "```python\n",
    "print(\"The number is \" + 5)\n",
    "```\n",
    "\n",
    "To fix this, you would need to make sure that the types of objects you're operating on are compatible with the operation. In this case, you could convert the integer to a string:\n",
    "\n",
    "```python\n",
    "print(\"The number is \" + str(5))\n",
    "```\n"
   ]
  },
  {
   "attachments": {},
   "cell_type": "markdown",
   "metadata": {},
   "source": [
    "\n",
    "### 3. NameError\n",
    "\n",
    "`NameError` is raised when you try to use a variable or a function name that has not been defined.\n",
    "\n",
    "Here's an example:\n",
    "\n",
    "```python\n",
    "print(x)\n",
    "```\n",
    "\n",
    "If `x` has not been defined before this statement, Python will raise a `NameError`.\n",
    "\n",
    "To fix this error, you need to ensure that you've defined a variable before you use it:\n",
    "\n",
    "```python\n",
    "x = 10\n",
    "print(x)  # This is fine\n",
    "```\n"
   ]
  },
  {
   "attachments": {},
   "cell_type": "markdown",
   "metadata": {},
   "source": [
    "\n",
    "### 4. IndexError and KeyError\n",
    "\n",
    "`IndexError` is raised when you try to access an index which does not exist in a list. Similarly, `KeyError` is raised when you try to access a dictionary key which does not exist.\n",
    "\n",
    "Here's an example for `IndexError`:\n",
    "\n",
    "```python\n",
    "my_list = [1, 2, 3]\n",
    "print(my_list[3])  # Raises IndexError\n",
    "```\n",
    "\n",
    "To avoid these errors, ensure that the index or key you're trying to access exists in your list or dictionary."
   ]
  }
 ],
 "metadata": {
  "kernelspec": {
   "display_name": ".venv",
   "language": "python",
   "name": "python3"
  },
  "language_info": {
   "name": "python",
   "version": "3.8.10 (default, Nov 14 2022, 12:59:47) \n[GCC 9.4.0]"
  },
  "orig_nbformat": 4,
  "vscode": {
   "interpreter": {
    "hash": "65d994a2586566578e6f5f03c290bfd0b2867c7905a9622796af24a8a04596a2"
   }
  }
 },
 "nbformat": 4,
 "nbformat_minor": 2
}
