{
 "cells": [
  {
   "attachments": {},
   "cell_type": "markdown",
   "metadata": {},
   "source": [
    "# Raising Errors in Python\n",
    "\n",
    "Welcome! In this tutorial, we'll be exploring one of the most crucial aspects of programming in Python — raising errors. We'll learn about the `raise` statement, delve into built-in exceptions, create our own exceptions, and understand the difference between errors and exceptions. By the end of this tutorial, you'll be adept at raising exceptions correctly and handling errors like a pro!\n"
   ]
  },
  {
   "attachments": {},
   "cell_type": "markdown",
   "metadata": {},
   "source": [
    "## Introduction to the `raise` Statement\n",
    "\n",
    "In Python, the `raise` statement allows a programmer to force a specified exception to occur. But why would you want to raise exceptions? Imagine you're writing a function, and you realize there are certain conditions under which the function shouldn't continue its execution. In this case, you can `raise` an exception.\n",
    "\n",
    "Here's a simple example:\n"
   ]
  },
  {
   "cell_type": "code",
   "execution_count": null,
   "metadata": {},
   "outputs": [],
   "source": [
    "import datetime\n",
    "\n",
    "def calculate_age(birth_year):\n",
    "    current_year = datetime.datetime.now().year\n",
    "    if birth_year > current_year:\n",
    "        raise ValueError(\n",
    "            f\"Birth year cannot be in the future! The current year is {current_year}.\"\n",
    "        )\n",
    "    return current_year - birth_year\n",
    "\n",
    "\n",
    "print(calculate_age(2025))\n"
   ]
  },
  {
   "attachments": {},
   "cell_type": "markdown",
   "metadata": {},
   "source": [
    "In this example, the `calculate_age` function raises a `ValueError` if the provided birth year is in the future.\n"
   ]
  },
  {
   "attachments": {},
   "cell_type": "markdown",
   "metadata": {},
   "source": [
    "## Built-in Exceptions\n",
    "\n",
    "Python has numerous built-in exceptions that you can use. For instance, `ValueError` for when a function receives an argument of correct type but inappropriate value, `TypeError` for an incorrect type, `IndexError` for accessing non-existent list elements, and so forth.\n",
    "\n",
    "To raise a built-in exception, you simply call `raise`, followed by the name of the exception and an optional error message.\n",
    "\n",
    "```python\n",
    "raise ValueError(\"An inappropriate value error occurred!\")\n",
    "```\n"
   ]
  },
  {
   "attachments": {},
   "cell_type": "markdown",
   "metadata": {},
   "source": [
    "## Creating Your Own Exceptions\n",
    "\n",
    "While built-in exceptions cover a wide range of errors, sometimes you might want to create your own exceptions for better clarity. Python allows you to create your own custom exceptions by creating a new class that inherits from the base `Exception` class.\n",
    "\n",
    "Here's a simple custom exception:\n"
   ]
  },
  {
   "cell_type": "code",
   "execution_count": null,
   "metadata": {},
   "outputs": [],
   "source": [
    "import datetime\n",
    "\n",
    "class FutureBirthYearError(Exception):\n",
    "    pass\n",
    "\n",
    "def calculate_age(birth_year):\n",
    "    current_year = datetime.datetime.now().year\n",
    "    if birth_year > current_year:\n",
    "        raise FutureBirthYearError(\n",
    "            f\"Birth year cannot be in the future! The current year is {current_year}.\"\n",
    "        )\n",
    "    return current_year - birth_year\n",
    "\n",
    "print(calculate_age(2025))\n"
   ]
  },
  {
   "attachments": {},
   "cell_type": "markdown",
   "metadata": {},
   "source": [
    "\n",
    "In this example, we've created a `FutureBirthYearError` that we raise instead of a `ValueError`. This makes our code more self-documenting.\n"
   ]
  },
  {
   "attachments": {},
   "cell_type": "markdown",
   "metadata": {},
   "source": [
    "\n",
    "## 4. Difference Between Errors and Exceptions\n",
    "\n",
    "In Python, all errors are considered exceptions. However, not all exceptions are errors. Confused? Let's break it down.\n",
    "\n",
    "An *error* is an exception that is typically unanticipated and signals a problem that prevents our code from continuing to run. \n",
    "\n",
    "An *exception*, on the other hand, is a broad classification for any type of \"exceptional\" condition in the program flow. It might be an error, but it could also be a situation that the program can handle and recover from, like a file not found exception.\n"
   ]
  },
  {
   "attachments": {},
   "cell_type": "markdown",
   "metadata": {},
   "source": [
    "By now, you should understand the importance of raising exceptions in Python. They are an integral part of Python programming and are vital for building robust and resilient applications. Remember, exceptions are your friends — they're here to tell you that something has gone wrong, and they're giving you a chance to handle it gracefully. Happy coding!"
   ]
  }
 ],
 "metadata": {
  "kernelspec": {
   "display_name": ".venv",
   "language": "python",
   "name": "python3"
  },
  "language_info": {
   "codemirror_mode": {
    "name": "ipython",
    "version": 3
   },
   "file_extension": ".py",
   "mimetype": "text/x-python",
   "name": "python",
   "nbconvert_exporter": "python",
   "pygments_lexer": "ipython3",
   "version": "3.8.10"
  },
  "orig_nbformat": 4,
  "vscode": {
   "interpreter": {
    "hash": "65d994a2586566578e6f5f03c290bfd0b2867c7905a9622796af24a8a04596a2"
   }
  }
 },
 "nbformat": 4,
 "nbformat_minor": 2
}
