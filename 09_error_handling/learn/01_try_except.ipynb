{
 "cells": [
  {
   "attachments": {},
   "cell_type": "markdown",
   "metadata": {},
   "source": [
    "# Tutorial: Handling Errors with `try-except` Blocks\n",
    "\n",
    "Hello and welcome to this tutorial! Today, we'll be diving into the world of exceptions and error handling in Python. In programming, errors are inevitable, but handling them gracefully is what sets robust code apart. By the end of this tutorial, you will have a solid understanding of how to handle exceptions in Python using `try-except` blocks, and how to manage different types of exceptions.\n"
   ]
  },
  {
   "attachments": {},
   "cell_type": "markdown",
   "metadata": {},
   "source": [
    "\n",
    "## Understanding Exceptions\n",
    "\n",
    "An exception is an event that occurs during the execution of a program, which\n",
    "disrupts the normal flow of the program's instructions. When a Python script\n",
    "raises an exception, it must either handle the exception immediately, otherwise\n",
    "it will terminate and quit.\n",
    "\n",
    "In Python, as in most programming languages, an exception is an event that\n",
    "occurs during the execution of a program which disrupts the normal flow of the\n",
    "program's instructions. When an error occurs within a program that halts its\n",
    "execution, an exception is usually 'thrown' or 'raised'.  \n",
    "\n",
    "Let's take a deeper look at the concept of exceptions:\n",
    "\n",
    "- **Exception as a disruptor:** Exceptions arise when something unexpected happens in your code. This could be due to various reasons such as trying to open a file that doesn't exist, attempting to divide by zero, referencing an undefined variable, exceeding a recursion limit, or many other scenarios. These situations disrupt the normal flow of execution.\n",
    "\n",
    "- **Exception as an object:** In Python, exceptions are actually instances of certain classes. When an exception occurs, an object of that exception class is instantiated. This object contains information about the error that occurred, including the type of error, a related error message, and the stack trace.\n",
    "\n",
    "- **Exception handling:** Unhandled exceptions will cause the program to stop running. This is often undesirable, so Python provides mechanisms to catch and respond to exceptions. You can catch exceptions using `try`/`except` blocks. Once an exception is caught, you can handle it in the `except` block or even ignore it.\n",
    "\n",
    "- **Exception propagation:** If an exception is not handled in the current function, it gets propagated up to the caller function. This process continues until the exception is either handled, or it reaches the main scope of your program, at which point your program will terminate.\n",
    "\n",
    "Understanding exceptions and exception handling is crucial for writing robust, fault-tolerant code. It allows you to predict and plan for things that can go wrong and provide meaningful feedback or take corrective action instead of letting the program crash.\n",
    "\n",
    "Consider the following example:\n"
   ]
  },
  {
   "cell_type": "code",
   "execution_count": null,
   "metadata": {},
   "outputs": [],
   "source": [
    "\n",
    "print(10 / 0)  # This line will cause a ZeroDivisionError\n"
   ]
  },
  {
   "attachments": {},
   "cell_type": "markdown",
   "metadata": {},
   "source": [
    "\n",
    "Running this code will cause Python to raise a `ZeroDivisionError`, because division by zero is mathematically undefined. If we don't handle this error, our program will terminate, which is usually not what we want.\n"
   ]
  },
  {
   "attachments": {},
   "cell_type": "markdown",
   "metadata": {},
   "source": [
    "\n",
    "## The `try-except` Block\n",
    "\n",
    "A `try-except` block in Python is used to catch and handle exceptions. If the code inside the `try` block throws an exception, the code inside the `except` block is executed. \n",
    "\n",
    "Here is the basic syntax of a `try-except` block:\n",
    "\n",
    "```python\n",
    "try:\n",
    "    # code that might cause an exception\n",
    "except ExceptionType:\n",
    "    # code to handle the exception\n",
    "```\n",
    "\n",
    "- The `try` keyword is used to define a block of code where an exception might occur.\n",
    "- The `except` keyword is followed by the type of exception you want to catch and handle. If the exception type is omitted, it will catch all exceptions, but this is generally not recommended because it can hide bugs.\n",
    "- After the `except` keyword, you define a block of code that will be executed if an exception of the specified type is thrown in the `try` block.\n",
    "\n",
    "Here is an example of a `try-except` block in action. Let's apply this to our previous example:\n"
   ]
  },
  {
   "cell_type": "code",
   "execution_count": null,
   "metadata": {},
   "outputs": [],
   "source": [
    "\n",
    "try:\n",
    "    print(0 / 0)\n",
    "except ZeroDivisionError:\n",
    "    print(\"You can't divide by zero!\")\n"
   ]
  },
  {
   "attachments": {},
   "cell_type": "markdown",
   "metadata": {},
   "source": [
    "\n",
    "If we run this code now, Python will print \"You can't divide by zero!\" instead of terminating the program. Our `try-except` block has caught and handled the `ZeroDivisionError`.\n"
   ]
  },
  {
   "attachments": {},
   "cell_type": "markdown",
   "metadata": {},
   "source": [
    "\n",
    "## Handling Specific Exceptions\n",
    "\n",
    "Python has [numerous built-in exceptions](https://docs.python.org/3/library/exceptions.html) that can handle various types of errors. For instance, `TypeError` is raised when an operation or function is applied to an object of an inappropriate type. \n",
    "\n",
    "Consider the following example:\n"
   ]
  },
  {
   "cell_type": "code",
   "execution_count": null,
   "metadata": {},
   "outputs": [],
   "source": [
    "\n",
    "try:\n",
    "    print(\"2\" + 2)  # This will raise a TypeError\n",
    "except TypeError:\n",
    "    print(\"Numbers and strings don't mix!\")\n"
   ]
  },
  {
   "attachments": {},
   "cell_type": "markdown",
   "metadata": {},
   "source": [
    "\n",
    "In this case, we're trying to concatenate a string and an integer, which is not allowed in Python. Therefore, a `TypeError` is raised. \n",
    "\n",
    "If you don't specify an exception type in the `except` block, it will catch all exceptions - but it's usually a good practice to catch specific exceptions so you can handle them appropriately.\n",
    "\n",
    "```python\n",
    "try:\n",
    "    # potential code causing exceptions\n",
    "except:  # This will catch all types of exceptions\n",
    "    print(\"An error occurred!\")\n",
    "```\n",
    "\n",
    "However, using a generic `except` clause should be done with care, as it could potentially catch and ignore an exception that you weren't expecting, making your code harder to debug.\n"
   ]
  },
  {
   "attachments": {},
   "cell_type": "markdown",
   "metadata": {},
   "source": [
    "## Handling Multiple Exceptions in One Except Block\n",
    "\n",
    "Sometimes, you may want to catch and handle several types of exceptions in the same way. Instead of having separate `except` blocks for each exception type, you can capture multiple exceptions in one `except` block by providing a tuple of exception types.\n",
    "\n",
    "Here's an example:\n"
   ]
  },
  {
   "attachments": {},
   "cell_type": "markdown",
   "metadata": {},
   "source": [
    "\n",
    "```python\n",
    "try:\n",
    "    # code that might raise an exception\n",
    "    num = int(input(\"Enter a number: \"))\n",
    "    result = 10 / num\n",
    "    print(result)\n",
    "except (ZeroDivisionError, ValueError):\n",
    "    print(\"Invalid input!\")\n",
    "```\n"
   ]
  },
  {
   "attachments": {},
   "cell_type": "markdown",
   "metadata": {},
   "source": [
    "\n",
    "In this example, we're asking for user input and trying to divide 10 by the provided number. Two types of exceptions might occur here. First, if the user enters zero, a `ZeroDivisionError` will be raised. Second, if the user enters a non-numeric string, the `int()` function will raise a `ValueError`. In both cases, we just print out a message: \"Invalid input!\".\n"
   ]
  },
  {
   "attachments": {},
   "cell_type": "markdown",
   "metadata": {},
   "source": [
    "\n",
    "## Handling Exceptions in Multiple Except Blocks\n",
    "\n",
    "When you want to handle different exceptions in different ways, you can use multiple `except` blocks. Each `except` block will specify the type of exception it handles. When an exception is raised in the `try` block, Python will go through the `except` blocks in order and the first one that matches the type of the thrown exception will be executed.\n",
    "\n",
    "Here's an example:\n"
   ]
  },
  {
   "cell_type": "code",
   "execution_count": null,
   "metadata": {},
   "outputs": [],
   "source": [
    "\n",
    "try:\n",
    "    # code that might raise an exception\n",
    "    num = int(input(\"Enter a number: \"))\n",
    "    result = 10 / num\n",
    "    print(result)\n",
    "except ZeroDivisionError:\n",
    "    print(\"You can't divide by zero!\")\n",
    "except ValueError:\n",
    "    print(\"You must enter a numeric value!\")\n"
   ]
  },
  {
   "cell_type": "markdown",
   "metadata": {},
   "source": [
    "\n",
    "In this example, if the user enters zero, a `ZeroDivisionError` is raised and caught by the first `except` block, which prints out \"You can't divide by zero!\". If the user enters a non-numeric string, a `ValueError` is raised and caught by the second `except` block, which prints out \"You must enter a numeric value!\". By using multiple `except` blocks, we can provide more specific error messages, which can be useful for both the user and the developer.\n",
    "\n",
    "Both methods of handling exceptions have their uses. Combining multiple exceptions in one `except` block is useful when multiple exceptions can be handled in the same way, while using multiple `except` blocks allows for more specific exception handling."
   ]
  },
  {
   "cell_type": "markdown",
   "metadata": {},
   "source": [
    "\n",
    "Remember, practice is key when learning new concepts in programming. By understanding and using exceptions in Python, you can write more robust, fault-tolerant code. Enjoy coding!"
   ]
  }
 ],
 "metadata": {
  "kernelspec": {
   "display_name": ".venv",
   "language": "python",
   "name": "python3"
  },
  "language_info": {
   "codemirror_mode": {
    "name": "ipython",
    "version": 3
   },
   "file_extension": ".py",
   "mimetype": "text/x-python",
   "name": "python",
   "nbconvert_exporter": "python",
   "pygments_lexer": "ipython3",
   "version": "3.8.10 (default, Nov 14 2022, 12:59:47) \n[GCC 9.4.0]"
  },
  "orig_nbformat": 4,
  "vscode": {
   "interpreter": {
    "hash": "65d994a2586566578e6f5f03c290bfd0b2867c7905a9622796af24a8a04596a2"
   }
  }
 },
 "nbformat": 4,
 "nbformat_minor": 2
}
