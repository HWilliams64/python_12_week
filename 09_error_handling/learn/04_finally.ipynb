{
 "cells": [
  {
   "attachments": {},
   "cell_type": "markdown",
   "metadata": {},
   "source": [
    "# Tutorial: Cleanup with `finally` Blocks in Python\n",
    "\n",
    "Welcome to this tutorial on cleanup with `finally` blocks in Python! The `finally` keyword is a powerful tool that you can use in your code to ensure certain actions are always executed, regardless of whether an exception is thrown. In this tutorial, we will delve into the concept of the `finally` clause, understand its significance, explore the execution flow in `try-except-finally` structures, and practice writing `finally` blocks for proper cleanup.\n"
   ]
  },
  {
   "attachments": {},
   "cell_type": "markdown",
   "metadata": {},
   "source": [
    "\n",
    "## Discover the `finally` Clause\n",
    "\n",
    "The `finally` clause is part of a `try/except` block in Python. It's used to specify a block of code that needs to be executed no matter what, whether an exception occurs or not. This is useful for cleanup activities such as closing a file or a network connection, even if an error occurs in the process.\n",
    "\n",
    "Here's the structure:\n",
    "\n",
    "```python\n",
    "try:\n",
    "    # Code that might raise an exception\n",
    "except SomeException:\n",
    "    # Code to handle the exception\n",
    "finally:\n",
    "    # Cleanup code that will be executed no matter what\n",
    "```\n"
   ]
  },
  {
   "attachments": {},
   "cell_type": "markdown",
   "metadata": {},
   "source": [
    "\n",
    "## Why `finally` Is Crucial for Cleanup Procedures\n",
    "\n",
    "The `finally` block is the perfect place to include any cleanup code because it will always be executed regardless of what happens in the `try` and `except` blocks.\n",
    "\n",
    "If you didn't have a `finally` block and placed your cleanup code after the `try/except` block, that code would not run if an exception is raised and not caught, or if there's an early return, continue, or break statement. \n",
    "\n",
    "But when you put the cleanup code in a `finally` block, you can be sure it will always be executed.\n"
   ]
  },
  {
   "attachments": {},
   "cell_type": "markdown",
   "metadata": {},
   "source": [
    "\n",
    "## Understanding the Execution Flow\n",
    "\n",
    "Let's take a deeper look at how the `try/except/finally` structure works:\n",
    "\n",
    "- First, the code in the `try` block is executed.\n",
    "- If an exception is raised in the `try` block and it matches the exception type in the `except` block, the `except` block is executed.\n",
    "- If the exception doesn't match the type in the `except` block, or if no `except` block is present, the `finally` block is executed and the exception is propagated up.\n",
    "- If no exception is raised, the `finally` block is executed after the `try` block completes.\n",
    "- If a `return`, `break`, or `continue` statement is encountered in the `try` or `except` block, the `finally` block is executed before that statement's action takes place.\n"
   ]
  },
  {
   "attachments": {},
   "cell_type": "markdown",
   "metadata": {},
   "source": [
    "\n",
    "## Practice with `finally`\n",
    "\n",
    "Let's practice with a simple example where we simulate opening and closing a file:\n"
   ]
  },
  {
   "cell_type": "code",
   "execution_count": null,
   "metadata": {},
   "outputs": [],
   "source": [
    "try:\n",
    "    print(\"Opening file...\")\n",
    "    raise ValueError(\"Something went wrong!\")\n",
    "except ValueError as e:\n",
    "    print(f\"Handled exception: {e}\")\n",
    "finally:\n",
    "    print(\"Closing file...\")\n"
   ]
  },
  {
   "attachments": {},
   "cell_type": "markdown",
   "metadata": {},
   "source": [
    "\n",
    "Even though we raise an exception in the `try` block, \"Closing file...\" is still printed because it's in the `finally` block.\n"
   ]
  },
  {
   "cell_type": "markdown",
   "metadata": {},
   "source": [
    "\n",
    "## Summary\n",
    "\n",
    "The `finally` clause in Python is a robust tool to ensure that cleanup code is always executed, regardless of whether an exception occurred in the `try` block or not. Using `finally` helps you prevent resource leaks and keeps your program tidy and reliable.\n",
    "\n",
    "Practice using `finally` in different scenarios to get a better grasp of it. It's a crucial tool that can make your code much more resilient to errors and easier to manage. Happy coding!"
   ]
  }
 ],
 "metadata": {
  "kernelspec": {
   "display_name": ".venv",
   "language": "python",
   "name": "python3"
  },
  "language_info": {
   "name": "python",
   "version": "3.8.10 (default, Nov 14 2022, 12:59:47) \n[GCC 9.4.0]"
  },
  "orig_nbformat": 4,
  "vscode": {
   "interpreter": {
    "hash": "65d994a2586566578e6f5f03c290bfd0b2867c7905a9622796af24a8a04596a2"
   }
  }
 },
 "nbformat": 4,
 "nbformat_minor": 2
}
