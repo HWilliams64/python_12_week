{
 "cells": [
  {
   "attachments": {},
   "cell_type": "markdown",
   "metadata": {},
   "source": [
    "## Easily figure out the result without the computer\n",
    "\n",
    "<style>\n",
    "html,body        {height: 100%;}\n",
    ".wrapper         {width: 80%; max-width: 1280px; height: 100%; margin: 0 auto; background: rgba(255, 255, 255, .0); padding-bottom: 50px}\n",
    ".h_iframe        {position: relative; padding-top: 56%;}\n",
    ".h_iframe iframe {position: absolute; top: 0; left: 0; width: 100%; height: 100%;}\n",
    "</style>\n",
    "\n",
    "<div class=\"wrapper\">\n",
    "    <div class=\"h_iframe\">\n",
    "        <iframe height=\"2\" width=\"2\" src=\"https://www.youtube.com/embed/dF16Jwu7TAo\" title=\"YouTube video player\" frameborder=\"0\" allow=\"accelerometer; autoplay; clipboard-write; encrypted-media; gyroscope; picture-in-picture; web-share\" allowfullscreen></iframe>\n",
    "    </div>\n",
    "</div>\n",
    "\n",
    "<div class=\"wrapper\">\n",
    "    <div class=\"h_iframe\">\n",
    "        <iframe height=\"2\" width=\"2\" src=\"https://www.youtube.com/embed/MswenXHicic\" title=\"YouTube video player\" frameborder=\"0\" allow=\"accelerometer; autoplay; clipboard-write; encrypted-media; gyroscope; picture-in-picture; web-share\" allowfullscreen></iframe>\n",
    "    </div>\n",
    "</div>\n",
    "\n",
    "In this section, we'll show you how to figure out the result of a logical\n",
    "expression by converting the individual smaller logical expressions into `1`\n",
    "(`True`) and `0` (`False`), and then replacing `and` with multiplication (`*`)\n",
    "and `or` with addition (`+`) to figure out the math result.\n",
    "\n",
    "**Why is this important?**\n",
    "\n",
    "At the time of writing this tutorial not even GPT-4 can do this simple example\n",
    "we're about to cover. So you're still going to have to think for yourself 🤓.\n",
    "\n",
    "**RULES**\n",
    "\n",
    "Let's pretend you given the code below with the logical expression. We will\n",
    "discuss how we may easily solve this expression without running the code. Before\n",
    "we begin remember these rules:\n",
    "\n",
    "- `True` is equal to any number greater than or equal to `1` \n",
    "- `False` is equal to `0`  \n",
    "- `and` is equal to multiplication `*`\n",
    "- `or` is equal to addition `+`\n",
    "- Order of operations PEMDAS (`P`arenthesis, `E`xponents, `M`ultiplication,\n",
    "  `A`ddition, and `S`ubtraction)\n"
   ]
  },
  {
   "cell_type": "code",
   "execution_count": null,
   "metadata": {},
   "outputs": [],
   "source": [
    "A = 5\n",
    "B = 3\n",
    "C = 7\n",
    "D = 9\n",
    "E = 2\n",
    "F = 2\n",
    "\n",
    "A > B and C > D or E == F\n"
   ]
  },
  {
   "attachments": {},
   "cell_type": "markdown",
   "metadata": {},
   "source": [
    "### Step 1) Convert the logical expressions into 1 (True) and 0 (False)\n",
    "\n",
    "First, evaluate each individual logical expression and replace them with either\n",
    "1 (True) or 0 (False), depending on their outcome. Usually, you can do this in\n",
    "your head or write it out on a piece of paper. We'll lay it out using code\n",
    "below.\n",
    "\n",
    "**Tip:** The code `int(expr1)` converts a `bool` to and integer. In python `False =\n",
    "0` and `True = 1`"
   ]
  },
  {
   "cell_type": "code",
   "execution_count": null,
   "metadata": {},
   "outputs": [],
   "source": [
    "expr1 = A > B  # True\n",
    "expr2 = C > D  # False\n",
    "expr3 = E == F  # True\n",
    "\n",
    "print(A, '>', B, \" ->\", 'A > B', \" ->\", expr1, \" ->\", int(expr1))\n",
    "print(C, '>', D, \" ->\", 'C > D', \" ->\", expr2, \"->\", int(expr2))\n",
    "print(E, '==', F, \"->\", 'E == F', \"->\", expr3, \" ->\", int(expr3))\n",
    "\n",
    "print('A > B and C > D or E == F')\n",
    "print(expr1, 'and', expr2, 'or', expr3)\n",
    "print(int(expr1), 'and', int(expr2), 'or', int(expr3))\n"
   ]
  },
  {
   "attachments": {},
   "cell_type": "markdown",
   "metadata": {},
   "source": [
    "### Step 2) Replace 'and' with multiplication (*) and 'or' with addition (+)\n",
    "\n",
    "Now, replace the `and` operator with multiplication `*` and the `or` operator\n",
    "with addition `+`."
   ]
  },
  {
   "cell_type": "code",
   "execution_count": null,
   "metadata": {},
   "outputs": [],
   "source": [
    "print(int(expr1), 'and', int(expr2), 'or', int(expr3))\n",
    "print(int(expr1), '*  ', int(expr2), '+ ', int(expr3))\n"
   ]
  },
  {
   "attachments": {},
   "cell_type": "markdown",
   "metadata": {},
   "source": [
    "### Step 3) Evaluate the mathematical expression\n",
    "\n",
    "Calculate the result of the mathematical expression."
   ]
  },
  {
   "cell_type": "code",
   "execution_count": null,
   "metadata": {},
   "outputs": [],
   "source": [
    "print(int(expr1), '*', int(expr2), '+', int(expr3), '= 0 + 1 = 1' )\n"
   ]
  },
  {
   "attachments": {},
   "cell_type": "markdown",
   "metadata": {},
   "source": [
    "### Step 4) Convert the math result back to a boolean value\n",
    "\n",
    "Finally, convert the math result back to a boolean value. If the result is 1,\n",
    "the final result is True. If the result is 0, the final result is False.\n",
    "\n",
    "```py\n",
    "1 = True\n",
    "```\n",
    "\n",
    "Final result: `1` (`True`)\n",
    "\n",
    "So, the result of the original logical expression: `A > B and C > D or E == F`\n",
    "is `True`\n",
    "\n",
    "Remember that this method works because the `and` operator acts like\n",
    "multiplication: `True` (`1`) multiplied by `True` (`1`) is `True` (`1`), but any\n",
    "other combination results in `False` (`0`). The `or` operator acts like\n",
    "addition: `False` (`0`) added to `False` (`0`) is `False` (`0`), but any other\n",
    "combination results in `True` (`1`). \n",
    "\n",
    "`Caveat`: his method doesn't account for the `not` operator, so you need to\n",
    "handle it separately. \n",
    "\n",
    "<style>\n",
    "html,body        {height: 100%;}\n",
    ".wrapper         {width: 80%; max-width: 1280px; height: 100%; margin: 0 auto; background: rgba(255, 255, 255, .0); padding-bottom: 50px}\n",
    ".h_iframe        {position: relative; padding-top: 56%;}\n",
    ".h_iframe iframe {position: absolute; top: 0; left: 0; width: 100%; height: 100%;}\n",
    "</style>\n",
    "\n",
    "<div class=\"wrapper\">\n",
    "    <div class=\"h_iframe\">\n",
    "        <iframe height=\"2\" width=\"2\" src=\"https://www.youtube.com/embed/sCXevsJBAJQ\" title=\"YouTube video player\" frameborder=\"0\" allow=\"accelerometer; autoplay; clipboard-write; encrypted-media; gyroscope; picture-in-picture; web-share\" allowfullscreen></iframe>\n",
    "    </div>\n",
    "</div>"
   ]
  }
 ],
 "metadata": {
  "kernelspec": {
   "display_name": "Python 3",
   "language": "python",
   "name": "python3"
  },
  "language_info": {
   "codemirror_mode": {
    "name": "ipython",
    "version": 3
   },
   "file_extension": ".py",
   "mimetype": "text/x-python",
   "name": "python",
   "nbconvert_exporter": "python",
   "pygments_lexer": "ipython3",
   "version": "3.8.10 (default, Nov 14 2022, 12:59:47) \n[GCC 9.4.0]"
  },
  "orig_nbformat": 4,
  "vscode": {
   "interpreter": {
    "hash": "e7370f93d1d0cde622a1f8e1c04877d8463912d04d973331ad4851f04de6915a"
   }
  }
 },
 "nbformat": 4,
 "nbformat_minor": 2
}
