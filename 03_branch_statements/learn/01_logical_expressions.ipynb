{
 "cells": [
  {
   "attachments": {},
   "cell_type": "markdown",
   "metadata": {},
   "source": [
    "# Creating Logical Expressions\n",
    "\n",
    "Logical expressions are an essential part of programming, as they allow us to make decisions and control the flow of our code based on certain conditions. In this tutorial, we will explore the importance of logical expressions, learn how to create them using comparison and Boolean operators, and discover how to combine them effectively using parentheses for clarity and control."
   ]
  },
  {
   "attachments": {},
   "cell_type": "markdown",
   "metadata": {},
   "source": [
    "## Importance of Logical Expressions in Programming\n",
    "\n",
    "Logical expressions play a vital role in programming as they enable us to write code that can make decisions based on specific conditions. By evaluating the truthfulness or falsehood of logical expressions, we can determine which parts of our code to execute, which paths to follow, and which actions to take. This enables us to create dynamic and interactive programs that respond intelligently to different scenarios."
   ]
  },
  {
   "attachments": {},
   "cell_type": "markdown",
   "metadata": {},
   "source": [
    "## Creating Logical Expressions with Comparison Operators\n",
    "\n",
    "Comparison operators are used to compare values and create logical expressions. These operators include:\n",
    "\n",
    "- `==` (equal to): Returns `True` if the values on both sides are equal.\n",
    "- `>` (greater than): Returns `True` if the value on the left is greater than the value on the right.\n",
    "- `<` (less than): Returns `True` if the value on the left is less than the value on the right.\n",
    "- `>=` (greater than or equal to): Returns `True` if the value on the left is greater than or equal to the value on the right.\n",
    "- `<=` (less than or equal to): Returns True if the value on the left is less than or equal to the value on the right.\n",
    "- `!=` (not equal to): Returns `True` if the values on both sides are not equal.\n",
    "\n",
    "Let's look at some examples:"
   ]
  },
  {
   "cell_type": "code",
   "execution_count": null,
   "metadata": {},
   "outputs": [],
   "source": [
    "x = 5\n",
    "y = 10\n",
    "\n",
    "print(x == y)  # False\n",
    "print(x < y)   # True\n",
    "print(x >= y)  # False\n",
    "print(x != y)  # True\n"
   ]
  },
  {
   "attachments": {},
   "cell_type": "markdown",
   "metadata": {},
   "source": [
    "In the examples above, we compare the values of `x` and `y` using different comparison operators. The resulting logical expressions are then printed, showing whether the conditions are `True` or `False`.\n"
   ]
  },
  {
   "attachments": {},
   "cell_type": "markdown",
   "metadata": {},
   "source": [
    "## Using Boolean Operators in Logical Expressions\n",
    "\n",
    "Boolean operators allow us to combine multiple logical expressions to create\n",
    "more complex conditions. The three commonly used Boolean operators are: \n",
    "\n",
    "- `and`: Returns `True` if both the left and right expressions are `True`.\n",
    "- `or`: Returns `True` if either the left or right expression (or both) is\n",
    "  `True`.\n",
    "- `not`: Returns the inverse of the expression, `True` becomes `False` and vice\n",
    "  versa.\n",
    "  \n",
    "Let's see some examples:"
   ]
  },
  {
   "cell_type": "code",
   "execution_count": null,
   "metadata": {},
   "outputs": [],
   "source": [
    "x = 5\n",
    "y = 10\n",
    "z = 7\n",
    "\n",
    "print(x < y and y < z)  # False\n",
    "print(x < y or y < z)   # True\n",
    "print(not x < y)        # False\n"
   ]
  },
  {
   "attachments": {},
   "cell_type": "markdown",
   "metadata": {},
   "source": [
    "In the examples above, we combine multiple logical expressions using Boolean\n",
    "operators. The resulting expressions are evaluated, and the output demonstrates\n",
    "the truthfulness or falsehood of the conditions.\n"
   ]
  },
  {
   "attachments": {},
   "cell_type": "markdown",
   "metadata": {},
   "source": [
    "## Combining Logical Expressions with Parentheses\n",
    "\n",
    "Parentheses can be used to combine logical expressions and control the order of\n",
    "evaluation. They provide clarity and ensure that the expressions are evaluated\n",
    "in the intended order. \n",
    "\n",
    "Consider the following example:"
   ]
  },
  {
   "cell_type": "code",
   "execution_count": null,
   "metadata": {},
   "outputs": [],
   "source": [
    "x = 5\n",
    "y = 10\n",
    "z = 7\n",
    "\n",
    "result = (x < y) and (y < z)\n",
    "\n",
    "print(result)  # False\n"
   ]
  },
  {
   "attachments": {},
   "cell_type": "markdown",
   "metadata": {},
   "source": [
    "In this example, the parentheses `(x < y)` and `(y < z)` group the respective\n",
    "expressions together. By using parentheses, we explicitly state that the first\n",
    "comparison should be evaluated before the `and` operator combines it with the\n",
    "second comparison. This ensures that the logical expression is evaluated\n",
    "correctly, resulting in the desired outcome. \n",
    "\n",
    "Using parentheses becomes especially important when combining multiple logical\n",
    "expressions with different operators. Let's look at an example: "
   ]
  },
  {
   "cell_type": "code",
   "execution_count": null,
   "metadata": {},
   "outputs": [],
   "source": [
    "x = 5\n",
    "y = 10\n",
    "z = 7\n",
    "\n",
    "result = (x < y) and ((y < z) or (x > z))\n",
    "\n",
    "print(result)  # True\n"
   ]
  },
  {
   "attachments": {},
   "cell_type": "markdown",
   "metadata": {},
   "source": [
    "In this example, we have combined multiple logical expressions using both the `and` and or operators. By using parentheses to group the expressions `(y < z)` and `(x > z)`, we control the order of evaluation and ensure that the `or` operation is performed before the `and` operation.\n",
    "\n",
    "By understanding how to combine logical expressions using parentheses, we can create complex conditions and control the flow of our code effectively."
   ]
  }
 ],
 "metadata": {
  "kernelspec": {
   "display_name": ".venv",
   "language": "python",
   "name": "python3"
  },
  "language_info": {
   "name": "python",
   "version": "3.8.10 (default, Nov 14 2022, 12:59:47) \n[GCC 9.4.0]"
  },
  "orig_nbformat": 4,
  "vscode": {
   "interpreter": {
    "hash": "65d994a2586566578e6f5f03c290bfd0b2867c7905a9622796af24a8a04596a2"
   }
  }
 },
 "nbformat": 4,
 "nbformat_minor": 2
}
