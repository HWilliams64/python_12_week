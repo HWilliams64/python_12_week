{
 "cells": [
  {
   "attachments": {},
   "cell_type": "markdown",
   "metadata": {},
   "source": [
    "# Branch Statements\n",
    "\n",
    "Thanks for starting this tutorial on `if`, `elif`, and `else` Statements in\n",
    "Python. \n"
   ]
  },
  {
   "attachments": {},
   "cell_type": "markdown",
   "metadata": {},
   "source": [
    "## If Statements\n",
    "\n",
    "The if statement is used to perform different actions based on different\n",
    "conditions. It allows us to execute a block of code only if a certain condition\n",
    "is satisfied. The if statement is typically followed by one or more elif (short\n",
    "for \"else if\") statements and optionally an else statement. These additional\n",
    "statements provide alternative conditions to check when the original condition\n",
    "is not met.\n",
    "\n",
    "Let's start by understanding the basic syntax of the if statement:\n",
    "\n",
    "```py\n",
    "if condition:\n",
    "    # Code block\n",
    "```\n",
    "\n",
    "Here, `condition` is an logical expression that evaluates to either `True` or\n",
    "`False`. If the condition is `True`, the indented code block following the colon\n",
    "(`:`) will be executed. If the condition is `False`, the code block will be\n",
    "skipped, and the program moves on to the next statement. The code block may\n",
    "contain multiple lines of code and have nested code blocks.\n",
    "\n",
    "Now, what's with the colon (`:`) and indentation? In Python, the colon is used to\n",
    "indicate the start of a new block of code. It acts as a separator between the\n",
    "condition and the code block. The indented code block following the colon is\n",
    "known as the \"body\" of the if statement. The indentation (usually four spaces or\n",
    "a tab) is crucial in Python because it determines which lines of code are part\n",
    "of the block. \n",
    "\n",
    "Let's look at an example to see how the `if` statement works in action:"
   ]
  },
  {
   "cell_type": "code",
   "execution_count": null,
   "metadata": {},
   "outputs": [],
   "source": [
    "x = 10\n",
    "\n",
    "if x > 5:\n",
    "    print(\"x is greater than 5\")"
   ]
  },
  {
   "attachments": {},
   "cell_type": "markdown",
   "metadata": {},
   "source": [
    "In this example, we have a variable `x` with a value of `10`. The condition `x >\n",
    "5` evaluates to True since `10` is indeed greater than `5`. As a result, the\n",
    "code block (`print` statement) is executed, and we'll see the output: \"x is\n",
    "greater than 5\". "
   ]
  },
  {
   "attachments": {},
   "cell_type": "markdown",
   "metadata": {},
   "source": [
    "## Elif Statement\n",
    "\n",
    "Now, let's move on to the `elif` statement. The `elif` statement allows us to\n",
    "check additional conditions if the preceding if or `elif` conditions are\n",
    "`False`. It's optional and can appear zero or more times after the if statement\n",
    "but before the else statement. \n",
    "\n",
    "Here's the syntax of the `elif` statement:\n",
    "\n",
    "```py\n",
    "if condition1:\n",
    "    # code block1\n",
    "elif condition2:\n",
    "    # code block2\n",
    "```\n",
    "\n",
    "If condition1 is `False`, `condition2` is evaluated. If `condition2` is `True`, the code\n",
    "block2 associated with it is executed. If `condition2` is False as well, the\n",
    "program moves on to the next `elif` or `else` statement. "
   ]
  },
  {
   "attachments": {},
   "cell_type": "markdown",
   "metadata": {},
   "source": [
    "## Else Statement\n",
    "\n",
    "Finally, we have the else statement. It's used as a catch-all block when none of\n",
    "the preceding conditions are True. The else statement is optional and can only\n",
    "appear once at the end of the if-elif-else statement. \n",
    "\n",
    "Here's an example that demonstrates the usage of `if`, `elif`, and `else` statements\n",
    "together: "
   ]
  },
  {
   "cell_type": "code",
   "execution_count": null,
   "metadata": {},
   "outputs": [],
   "source": [
    "num = int(input(\"Enter a number: \"))\n",
    "\n",
    "if num > 0:\n",
    "    print(\"Positive number\")\n",
    "elif num < 0:\n",
    "    print(\"Negative number\")\n",
    "else:\n",
    "    print(\"Zero\")\n"
   ]
  },
  {
   "attachments": {},
   "cell_type": "markdown",
   "metadata": {},
   "source": [
    "In this example, the user is prompted to enter a number. Depending on the value\n",
    "entered, one of the three possible messages will be printed. \n",
    "\n",
    "To summarize:\n",
    "\n",
    "- Use the `if` statement to check a condition and execute a code block if it's\n",
    "  `True`. \n",
    "- Use `elif` statements to check additional conditions if the preceding\n",
    "  conditions are `False`. \n",
    "- Use the `else` statement to provide a default code block if none of the\n",
    "  preceding conditions are `True`.\n",
    "\n",
    "Remember to use the colon (`:`) and proper indentation to define the code blocks associated with `if`, `elif`, and `else` statements correctly."
   ]
  }
 ],
 "metadata": {
  "kernelspec": {
   "display_name": ".venv",
   "language": "python",
   "name": "python3"
  },
  "language_info": {
   "name": "python",
   "version": "3.8.10 (default, Nov 14 2022, 12:59:47) \n[GCC 9.4.0]"
  },
  "orig_nbformat": 4,
  "vscode": {
   "interpreter": {
    "hash": "65d994a2586566578e6f5f03c290bfd0b2867c7905a9622796af24a8a04596a2"
   }
  }
 },
 "nbformat": 4,
 "nbformat_minor": 2
}
