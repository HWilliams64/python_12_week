{
 "cells": [
  {
   "attachments": {},
   "cell_type": "markdown",
   "metadata": {},
   "source": [
    "# `Is` vs `==`\n",
    "\n",
    "Let's explore the difference between the `is` and `==` operators in Python. "
   ]
  },
  {
   "attachments": {},
   "cell_type": "markdown",
   "metadata": {},
   "source": [
    "## `==` Operator\n",
    "\n",
    "The `==` operator is used for equality comparison. It checks whether the values\n",
    "on both sides are equal. Let's see some examples: "
   ]
  },
  {
   "cell_type": "code",
   "execution_count": null,
   "metadata": {},
   "outputs": [],
   "source": [
    "x = 5\n",
    "y = 5\n",
    "\n",
    "print(x == y)  # True"
   ]
  },
  {
   "attachments": {},
   "cell_type": "markdown",
   "metadata": {},
   "source": [
    "In this example, we have two variables, `x` and `y`, both assigned the value\n",
    "`5`. The `==` operator compares the values of `x` and `y` and returns `True`\n",
    "because they are indeed equal. \n",
    "\n",
    "Similarly, for strings:"
   ]
  },
  {
   "cell_type": "code",
   "execution_count": null,
   "metadata": {},
   "outputs": [],
   "source": [
    "name1 = \"John\"\n",
    "name2 = \"John\"\n",
    "\n",
    "print(name1 == name2)  # True\n"
   ]
  },
  {
   "attachments": {},
   "cell_type": "markdown",
   "metadata": {},
   "source": [
    "In this case, the `==` operator compares the string values ``John`` and ``John`` and returns True since they are the same."
   ]
  },
  {
   "attachments": {},
   "cell_type": "markdown",
   "metadata": {},
   "source": [
    "## `is` Operator\n",
    "\n",
    "Now, let's move on to the `is` operator. Unlike `==` which compares values, the\n",
    "`is` operator checks if two variables refer to the same object in memory. It\n",
    "checks the identity or memory address of the objects being compared. Here's an\n",
    "example: "
   ]
  },
  {
   "cell_type": "code",
   "execution_count": null,
   "metadata": {},
   "outputs": [],
   "source": [
    "a = [1, 2, 3]\n",
    "b = [1, 2, 3]\n",
    "\n",
    "print(a is b)  # False\n"
   ]
  },
  {
   "attachments": {},
   "cell_type": "markdown",
   "metadata": {},
   "source": [
    "In this example, we have two lists, `a` and `b`, that contain the same elements.\n",
    "However, they are two separate objects in memory. The `is` operator checks the\n",
    "identity of the objects, not just the values, and returns False since `a` and\n",
    "`b` do not refer to the same memory address. \n",
    "\n",
    "On the other hand, if we assign the same list to both variables:"
   ]
  },
  {
   "cell_type": "code",
   "execution_count": null,
   "metadata": {},
   "outputs": [],
   "source": [
    "c = [1, 2, 3]\n",
    "d = c\n",
    "\n",
    "print(c is d)  # True\n"
   ]
  },
  {
   "attachments": {},
   "cell_type": "markdown",
   "metadata": {},
   "source": [
    "In this case, both `c` and `d` refer to the same list object in memory. Therefore, the `is` operator returns True.\n",
    "\n",
    "It's important to note that for basic data types like numbers, strings, and booleans, the `is` operator may return True for small values due to Python's internal optimization. For larger values, it's generally safer to use `==` for equality comparisons.\n",
    "\n",
    "To summarize:\n",
    "\n",
    "Use the `==` operator to check if the values of two variables are equal.\n",
    "Use the `is` operator to check if two variables refer to the same object in memory.\n",
    "Remember that the distinction between `is` and `==` becomes more significant when dealing with complex data structures like lists, dictionaries, and objects, where object identity plays a crucial role.\n",
    "\n"
   ]
  }
 ],
 "metadata": {
  "kernelspec": {
   "display_name": ".venv",
   "language": "python",
   "name": "python3"
  },
  "language_info": {
   "name": "python",
   "version": "3.8.10 (default, Nov 14 2022, 12:59:47) \n[GCC 9.4.0]"
  },
  "orig_nbformat": 4,
  "vscode": {
   "interpreter": {
    "hash": "65d994a2586566578e6f5f03c290bfd0b2867c7905a9622796af24a8a04596a2"
   }
  }
 },
 "nbformat": 4,
 "nbformat_minor": 2
}
