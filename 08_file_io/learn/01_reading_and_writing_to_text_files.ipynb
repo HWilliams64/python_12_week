{
 "cells": [
  {
   "attachments": {},
   "cell_type": "markdown",
   "metadata": {},
   "source": [
    "# Reading and Writing to Text Files in Python\n",
    "\n",
    "Welcome to the exciting world of file I/O operations in Python! In this tutorial, we're going to explore the basic process of opening, reading, writing, and closing text files. By the end of this tutorial, you will not only understand these fundamental operations but also get hands-on experience with reading from and writing to files in Python. So, let's dive in!\n",
    "\n",
    "## Understanding the File I/O Process\n",
    "\n",
    "The process of interacting with files in Python follows these basic steps:\n",
    "1. **Open the file:** This creates a file object that you'll use to interact with the file.\n",
    "2. **Read or write to the file:** With the file object, you can read data from the file or write data to it.\n",
    "3. **Close the file:** After you're done with the file, it's important to close it to free up the resources that were tied to the file.\n",
    "\n",
    "Now, let's break these steps down and see how they work in Python.\n",
    "\n",
    "## Opening a File\n",
    "\n",
    "Python uses the built-in `open()` function to open a file. This function takes two parameters: the name of the file (including its path, if it's not in the same directory as your Python script) and the mode in which to open the file. \n",
    "\n",
    "The mode signifies how you plan to interact with the file. Here are some common modes:\n",
    "\n",
    "- `'r'`: Open for reading (default)\n",
    "- `'w'`: Open for writing, clearing the file first\n",
    "- `'a'`: Open for writing, appending to the end of the file if it exists\n",
    "- `'b'`: Binary mode\n",
    "- `'+'`: Open for updating (reading and writing)\n",
    "\n",
    "You can combine modes like `'rb'` (read in binary), `'w'` (write in text), `'a+'` (read and write, append if file exists), etc.\n",
    "\n",
    "Let's open a file named `my_file.txt` in write mode:\n"
   ]
  },
  {
   "cell_type": "code",
   "execution_count": null,
   "metadata": {},
   "outputs": [],
   "source": [
    "file = open('my_file.txt', 'w')"
   ]
  },
  {
   "attachments": {},
   "cell_type": "markdown",
   "metadata": {},
   "source": [
    "## Writing to a File\n",
    "\n",
    "To write to a file, you first need to open it in a write mode (`'w'`, `'a'`, `'x'`), then use the `write()` method. Note that `'w'` will overwrite the existing file, while `'a'` will append to the end.\n",
    "\n",
    "Here's an example of writing to a file:\n"
   ]
  },
  {
   "cell_type": "code",
   "execution_count": null,
   "metadata": {},
   "outputs": [],
   "source": [
    "file = open('my_file.txt', 'w')\n",
    "file.write('Hello, World!')\n",
    "file.close()\n"
   ]
  },
  {
   "attachments": {},
   "cell_type": "markdown",
   "metadata": {},
   "source": [
    "WARNING: The w mode in the open() function will overwrite existing content in the file. If you wish to append to an existing file, use a mode instead."
   ]
  },
  {
   "attachments": {},
   "cell_type": "markdown",
   "metadata": {},
   "source": [
    "### `'w'` Mode\n",
    "\n",
    "The 'w' mode in Python stands for write. When you open a file in 'w' mode, you're saying \"I want to write data to this file\". Here's a basic example:\n"
   ]
  },
  {
   "cell_type": "code",
   "execution_count": null,
   "metadata": {},
   "outputs": [],
   "source": [
    "file = open('example.txt', 'w')\n",
    "file.write(\"Hello, world!\")\n",
    "file.close()\n"
   ]
  },
  {
   "attachments": {},
   "cell_type": "markdown",
   "metadata": {},
   "source": [
    "This code will create a new file called 'example.txt' and write the string \"Hello, world!\" to it.\n",
    "\n",
    "But here's the important part: if 'example.txt' already existed and had data in it, **opening it in 'w' mode will clear that data**. In other words, 'w' mode not only enables writing, but also _overwrites_ the existing file. If you just want to add data to the file without removing what's already there, 'w' mode isn't what you want.\n"
   ]
  },
  {
   "attachments": {},
   "cell_type": "markdown",
   "metadata": {},
   "source": [
    "### `'a'` Mode\n",
    "\n",
    "That's where 'a' mode comes in. The 'a' in 'a' mode stands for append. When you open a file in 'a' mode, you're saying \"I want to add data to this file, without removing what's already there\". Here's how to do it:\n"
   ]
  },
  {
   "cell_type": "code",
   "execution_count": null,
   "metadata": {},
   "outputs": [],
   "source": [
    "file = open('example.txt', 'a')\n",
    "file.write(\"\\nHello again, world!\")\n",
    "file.close()\n"
   ]
  },
  {
   "cell_type": "markdown",
   "metadata": {},
   "source": [
    "\n",
    "This code will add the string \"Hello again, world!\" to 'example.txt', but it won't remove the \"Hello, world!\" that was already there. If 'example.txt' didn't exist, Python would create it, just like with 'w' mode.\n"
   ]
  },
  {
   "attachments": {},
   "cell_type": "markdown",
   "metadata": {},
   "source": [
    "\n",
    "## Reading from a File\n",
    "\n",
    "Once a file is opened in read mode, we can read its contents. There are a few ways to do this:\n",
    "\n",
    "- `read(size)`: This reads some quantity of data from the file. `size` is an optional numeric argument. When `size` is omitted or negative, the entire contents of the file will be read.\n",
    "\n",
    "- `readline()`: This reads the next line from the file.\n",
    "\n",
    "- `readlines()`: This reads all the lines and returns them as a list.\n",
    "\n",
    "Here's an example of reading a file:\n"
   ]
  },
  {
   "cell_type": "code",
   "execution_count": null,
   "metadata": {},
   "outputs": [],
   "source": [
    "file = open('my_file.txt', 'r')\n",
    "print(file.read())\n",
    "file.close()\n"
   ]
  },
  {
   "attachments": {},
   "cell_type": "markdown",
   "metadata": {},
   "source": [
    "\n",
    "## Closing a File\n",
    "\n",
    "Closing a file frees up the resources that were tied with the file. It's done using the `close()` method.\n"
   ]
  },
  {
   "cell_type": "code",
   "execution_count": null,
   "metadata": {},
   "outputs": [],
   "source": [
    "file = open('my_file.txt', 'r')\n",
    "print(file.read())\n",
    "file.close()"
   ]
  },
  {
   "attachments": {},
   "cell_type": "markdown",
   "metadata": {},
   "source": [
    "In this example, after reading the content of the file, we close it using `file.close()`."
   ]
  }
 ],
 "metadata": {
  "kernelspec": {
   "display_name": ".venv",
   "language": "python",
   "name": "python3"
  },
  "language_info": {
   "name": "python",
   "version": "3.8.10 (default, Nov 14 2022, 12:59:47) \n[GCC 9.4.0]"
  },
  "orig_nbformat": 4,
  "vscode": {
   "interpreter": {
    "hash": "65d994a2586566578e6f5f03c290bfd0b2867c7905a9622796af24a8a04596a2"
   }
  }
 },
 "nbformat": 4,
 "nbformat_minor": 2
}
