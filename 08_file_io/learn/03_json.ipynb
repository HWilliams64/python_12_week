{
 "cells": [
  {
   "attachments": {},
   "cell_type": "markdown",
   "metadata": {},
   "source": [
    "# Working with JSON in Python\n",
    "\n",
    "Hello there, Python enthusiast! Today we're going to dive into the world of JSON. We will discuss what JSON is, why it is so popular in the world of data interchange, and how it can be used in conjunction with Python's built-in `json` module. We'll also get hands-on experience with reading and writing JSON data using Python.\n"
   ]
  },
  {
   "attachments": {},
   "cell_type": "markdown",
   "metadata": {},
   "source": [
    "## Introduction to JSON\n",
    "\n",
    "JSON, short for JavaScript Object Notation, is a lightweight data interchange format that is easy for humans to read and write and easy for machines to parse and generate. \n",
    "\n",
    "JSON is language-independent and can represent data structures and associative arrays used in most programming languages. Therefore, it's an excellent choice for data exchange between client and server in web applications, or for storing complex data in a human-readable format.\n",
    "\n",
    "JSON has a very straightforward structure, using two types of structures:\n",
    "- **Collections of name-value pairs:** These are similar to Python dictionaries, and in JSON, they're encapsulated within `{}` braces.\n",
    "- **Ordered lists of values:** These are similar to Python lists, and in JSON, they're encapsulated within `[]` brackets.\n",
    "\n",
    "Let's take a look at a basic JSON object:\n",
    "\n",
    "```json\n",
    "{\n",
    "    \"name\": \"John\",\n",
    "    \"age\": 30,\n",
    "    \"city\": \"New York\",\n",
    "    \"cars\": [\"Ford\", \"BMW\", \"Fiat\"],\n",
    "    \"is_adult\": true,\n",
    "    \"hair\": null,\n",
    "    \"phone\": 123456789,\n",
    "    \"height\": 6.4\n",
    "}\n",
    "```\n",
    "\n",
    "In this example, we have an object (like a Python dictionary) with four keys: `name`, `age`, `city`, and `cars`. The `cars` key corresponds to an array (like a Python list) of three values.\n"
   ]
  },
  {
   "attachments": {},
   "cell_type": "markdown",
   "metadata": {},
   "source": [
    "## Python's built-in json module\n",
    "\n",
    "To work with JSON in Python, we use the `json` module. This module provides methods to manipulate JSON data, including converting Python objects to JSON (serialization) and converting JSON data to Python objects (deserialization).\n",
    "\n",
    "The two main methods in the `json` module that we'll focus on are `json.dumps()` and `json.loads()`.\n"
   ]
  },
  {
   "attachments": {},
   "cell_type": "markdown",
   "metadata": {},
   "source": [
    "## Reading and Writing JSON Data\n",
    "\n",
    "Let's jump into the code and see how we can interact with JSON data in Python.\n"
   ]
  },
  {
   "attachments": {},
   "cell_type": "markdown",
   "metadata": {},
   "source": [
    "### Writing JSON data\n",
    "\n",
    "To write JSON data, we first create a Python dictionary or list, then use `json.dumps()` to convert it to a JSON-formatted string.\n"
   ]
  },
  {
   "cell_type": "code",
   "execution_count": null,
   "metadata": {},
   "outputs": [],
   "source": [
    "import json\n",
    "\n",
    "# A Python dictionary\n",
    "person = {\n",
    "    \"name\": \"John\",\n",
    "    \"age\": 30,\n",
    "    \"city\": \"New York\",\n",
    "    \"cars\": [\"Ford\", \"BMW\", \"Fiat\"],\n",
    "    \"is_adult\": True,\n",
    "    \"hair\": None,\n",
    "    \"phone\": 123456789,\n",
    "    \"height\": 6.4\n",
    "}\n",
    "\n",
    "# Convert Python object to JSON\n",
    "person_json = json.dumps(person)\n",
    "\n",
    "print(person_json)\n"
   ]
  },
  {
   "attachments": {},
   "cell_type": "markdown",
   "metadata": {},
   "source": [
    "\n",
    "Running this code will output the `person` dictionary as a JSON-formatted string.\n"
   ]
  },
  {
   "attachments": {},
   "cell_type": "markdown",
   "metadata": {},
   "source": [
    "### Reading JSON data\n",
    "\n",
    "To read JSON data, we take a JSON-formatted string (or a file containing JSON), and use `json.loads()` to convert it into a Python object.\n"
   ]
  },
  {
   "cell_type": "code",
   "execution_count": null,
   "metadata": {},
   "outputs": [],
   "source": [
    "import json\n",
    "\n",
    "# A JSON string\n",
    "person_json = '{\"name\": \"Jane\", \"age\": 12, \"city\": \"Miami\", \"cars\": [\"Toyota\"], \"is_adult\": false, \"hair\": \"brown\", \"phone\": 987654321, \"height\": 5.2}'\n",
    "\n",
    "# Convert JSON to Python object\n",
    "person = json.loads(person_json)\n",
    "\n",
    "print(person)\n",
    "print(person[\"name\"])\n",
    "print(person[\"cars\"][0])\n"
   ]
  },
  {
   "attachments": {},
   "cell_type": "markdown",
   "metadata": {},
   "source": [
    "\n",
    "Running this code will convert the `person_json` string into a Python dictionary and print out the dictionary, the person's name, and the first car in their list of cars.\n"
   ]
  },
  {
   "attachments": {},
   "cell_type": "markdown",
   "metadata": {},
   "source": [
    "\n",
    "## Writing JSON to a File\n",
    "\n",
    "Python’s `json` module provides the `dump()` method for writing to a file. It takes two positional arguments:\n",
    "1. The data object to be written, as a Python object.\n",
    "2. An open, writable file object.\n",
    "\n",
    "Let's use our `person` dictionary from the previous example and save it as a JSON file:\n"
   ]
  },
  {
   "cell_type": "code",
   "execution_count": null,
   "metadata": {},
   "outputs": [],
   "source": [
    "import json\n",
    "\n",
    "# Our Python dictionary\n",
    "person = {\n",
    "    \"name\": \"John\",\n",
    "    \"age\": 30,\n",
    "    \"city\": \"New York\",\n",
    "    \"cars\": [\"Ford\", \"BMW\", \"Fiat\"]\n",
    "}\n",
    "\n",
    "# Open a file for writing\n",
    "with open('person.json', 'w') as file:\n",
    "    # Use json.dump to write the Python object to the file\n",
    "    json.dump(person, file)\n",
    "\n"
   ]
  },
  {
   "attachments": {},
   "cell_type": "markdown",
   "metadata": {},
   "source": [
    "\n",
    "The `open()` function opens a file in write mode (`'w'`), and `with` is used for context management, so we don't have to worry about closing the file afterwards. \n",
    "\n",
    "After running this code, you'll see a `person.json` file in your project directory. If you open it, you'll find the JSON representation of the `person` dictionary.\n"
   ]
  },
  {
   "attachments": {},
   "cell_type": "markdown",
   "metadata": {},
   "source": [
    "## Reading JSON from a File\n",
    "\n",
    "The `json` module provides the `load()` method to read a file containing JSON object. Here's how to use it:\n"
   ]
  },
  {
   "cell_type": "code",
   "execution_count": null,
   "metadata": {},
   "outputs": [],
   "source": [
    "import json\n",
    "\n",
    "# Open the file for reading\n",
    "with open('person.json', 'r') as file:\n",
    "    # Use json.load to load the JSON data from the file\n",
    "    person = json.load(file)\n",
    "\n",
    "print(person)\n",
    "print(person[\"name\"])\n",
    "print(person[\"cars\"][0])\n"
   ]
  },
  {
   "attachments": {},
   "cell_type": "markdown",
   "metadata": {},
   "source": [
    "\n",
    "In this case, the `open()` function opens the file in read mode (`'r'`). `json.load(file)` reads the file and turns the JSON object into a Python dictionary.\n",
    "\n",
    "After running this code, you'll see the `person` dictionary printed out, along with the person's name and the first car in their list of cars.\n"
   ]
  },
  {
   "cell_type": "markdown",
   "metadata": {},
   "source": [
    "\n",
    "### Conclusion\n",
    "\n",
    "Working with JSON data in Python is quite straightforward once you've got the basics down. Remember, JSON is just a way to represent data structures in a format that's easy to read, write, and parse. The `json` module in Python\n",
    "\n",
    " makes it easy to read and write JSON data, converting between JSON strings and Python objects.\n",
    "\n",
    "Make sure to get some practice with these concepts. The more comfortable you are with JSON and the `json` module, the easier it will be to work with APIs, web applications, and other situations where JSON data is common. Happy coding!"
   ]
  }
 ],
 "metadata": {
  "kernelspec": {
   "display_name": ".venv",
   "language": "python",
   "name": "python3"
  },
  "language_info": {
   "codemirror_mode": {
    "name": "ipython",
    "version": 3
   },
   "file_extension": ".py",
   "mimetype": "text/x-python",
   "name": "python",
   "nbconvert_exporter": "python",
   "pygments_lexer": "ipython3",
   "version": "3.8.10 (default, Nov 14 2022, 12:59:47) \n[GCC 9.4.0]"
  },
  "orig_nbformat": 4,
  "vscode": {
   "interpreter": {
    "hash": "65d994a2586566578e6f5f03c290bfd0b2867c7905a9622796af24a8a04596a2"
   }
  }
 },
 "nbformat": 4,
 "nbformat_minor": 2
}
