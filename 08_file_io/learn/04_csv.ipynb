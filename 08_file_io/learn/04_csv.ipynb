{
 "cells": [
  {
   "attachments": {},
   "cell_type": "markdown",
   "metadata": {},
   "source": [
    "# Handling CSV Data in Python\n",
    "\n",
    "Hello and welcome to this tutorial where we'll explore how to handle CSV data using Python. We'll demystify the structure of CSV files, delve into Python's built-in csv module, and practice reading and writing CSV data.\n"
   ]
  },
  {
   "attachments": {},
   "cell_type": "markdown",
   "metadata": {},
   "source": [
    "\n",
    "## Introduction to CSV\n",
    "\n",
    "CSV stands for Comma-Separated Values. It's a straightforward file format used to store tabular data, like a spreadsheet or a database. Each line in a CSV file represents a row in the table, and each field in that row (column in the table) is separated by a comma, hence the name.\n"
   ]
  },
  {
   "attachments": {},
   "cell_type": "markdown",
   "metadata": {},
   "source": [
    "\n",
    "While the delimiter is traditionally a comma, other characters like spaces or tabs can also be used, depending on the file. Here's an example of what a CSV file might look like:\n",
    "\n",
    "```csv\n",
    "name,age,city\n",
    "Alice,20,New York\n",
    "Bob,30,Los Angeles\n",
    "Charlie,25,San Francisco\n",
    "```\n",
    "\n",
    "Python provides the built-in `csv` module to read and write files in CSV format, making CSV file manipulation quite simple and straightforward.\n"
   ]
  },
  {
   "attachments": {},
   "cell_type": "markdown",
   "metadata": {},
   "source": [
    "\n",
    "## Reading CSV Data\n",
    "\n",
    "Let's start by reading a CSV file. We'll use Python's built-in `csv` module. Here's a basic example:\n"
   ]
  },
  {
   "cell_type": "code",
   "execution_count": null,
   "metadata": {},
   "outputs": [],
   "source": [
    "import csv\n",
    "\n",
    "with open('people.csv', 'r') as file:\n",
    "    reader = csv.reader(file)\n",
    "    for row in reader:\n",
    "        print(row)\n"
   ]
  },
  {
   "attachments": {},
   "cell_type": "markdown",
   "metadata": {},
   "source": [
    "\n",
    "In this example, `csv.reader` returns an iterable that produces the rows in the file. Each row is returned as a list of strings. The first row usually contains the column names.\n",
    "\n",
    "So, if we run the code above with the CSV file from our example, we get:\n",
    "\n",
    "```python\n",
    "['name', 'age', 'city']\n",
    "['Alice', '20', 'New York']\n",
    "['Bob', '30', 'Los Angeles']\n",
    "['Charlie', '25', 'San Francisco']\n",
    "```\n"
   ]
  },
  {
   "attachments": {},
   "cell_type": "markdown",
   "metadata": {},
   "source": [
    "## Writing CSV Data\n",
    "\n",
    "Now, let's try writing data into a CSV file. Again, we'll use the `csv` module. This time, however, we'll use `csv.writer`. Here's an example:\n"
   ]
  },
  {
   "cell_type": "code",
   "execution_count": null,
   "metadata": {},
   "outputs": [],
   "source": [
    "import csv\n",
    "\n",
    "data = [\n",
    "    ['name', 'age', 'city'],\n",
    "    ['Alice', '20', 'New York'],\n",
    "    ['Bob', '30', 'Los Angeles'],\n",
    "    ['Charlie', '25', 'San Francisco'],\n",
    "]\n",
    "\n",
    "with open('new_people.csv', 'w', newline='') as file:\n",
    "    writer = csv.writer(file)\n",
    "    writer.writerows(data)\n"
   ]
  },
  {
   "attachments": {},
   "cell_type": "markdown",
   "metadata": {},
   "source": [
    "\n",
    "In this case, we use `csv.writer` to create a writer object that provides the `writerow` and `writerows` methods. `writerow` writes a single row, while `writerows` writes multiple rows at once. The `newline=''` argument in `open` is used to prevent extra newlines from being written on Windows.\n",
    "\n",
    "You can check the contents of the newly created 'new_people.csv' file. It should contain the same data as our original 'people.csv' file.\n"
   ]
  },
  {
   "cell_type": "markdown",
   "metadata": {},
   "source": [
    "\n",
    "## Wrapping Up\n",
    "\n",
    "There you have it — a primer on handling CSV files in Python. We've covered how to read and write CSV files using Python's built-in `csv` module. Remember to always close your files after using them, or even better, use a context manager (`with` keyword) to let Python handle this for you.\n",
    "\n",
    "There's a lot more to the `csv` module than we've covered here. For instance, you can change the delimiter, skip the headers, quote special characters, and more. Make sure to check out the official Python documentation on the `csv` module for more details and keep practicing with different CSV files to solidify your understanding.\n",
    "\n",
    "Happy coding!"
   ]
  }
 ],
 "metadata": {
  "kernelspec": {
   "display_name": ".venv",
   "language": "python",
   "name": "python3"
  },
  "language_info": {
   "codemirror_mode": {
    "name": "ipython",
    "version": 3
   },
   "file_extension": ".py",
   "mimetype": "text/x-python",
   "name": "python",
   "nbconvert_exporter": "python",
   "pygments_lexer": "ipython3",
   "version": "3.8.10"
  },
  "orig_nbformat": 4,
  "vscode": {
   "interpreter": {
    "hash": "65d994a2586566578e6f5f03c290bfd0b2867c7905a9622796af24a8a04596a2"
   }
  }
 },
 "nbformat": 4,
 "nbformat_minor": 2
}
