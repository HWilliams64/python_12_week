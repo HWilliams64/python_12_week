{
 "cells": [
  {
   "attachments": {},
   "cell_type": "markdown",
   "metadata": {},
   "source": [
    "# Working with turtle\n",
    "\n",
    "<img\n",
    "src=\"https://raw.githubusercontent.com/HWilliams64/6-8-intro-to-python/main/img/turtle.gif\"\n",
    "alt=\"swimming turtle\" width=\"200\"/>\n",
    "\n",
    "In this section, we will learn how to use python code to draw a turtle and\n",
    "then we will create code to move the turtle around the screen. Follow the\n",
    "tutorial below because we will use the turtle package throughout many examples\n",
    "in the course. \n",
    "\n",
    "The code in the cell below will draw an animated turtle on the screen. \n",
    "\n",
    "Before your run your code (You only need to do this once):\n",
    "\n",
    "1. Make sure you select the correct Jupyter Kernel. Click Kernel selection in\n",
    "   the upper right corner of the screen.\n",
    "\n",
    "   <img src=\"https://raw.githubusercontent.com/HWilliams64/summer_python_12_week/main/01_orientation/img/kernel_selection.png\" alt=\"kernel selection\" width=\"400\"/>\n",
    "\n",
    "2. In the menu that appears select the option named `.venv (Python 3.8.10)`\n",
    "\n",
    "   <img src=\"https://raw.githubusercontent.com/HWilliams64/summer_python_12_week/main/01_orientation/img/kernel_menu.png\" alt=\"kernel menu\" width=\"400\"/>\n",
    "\n",
    "To run the code:\n",
    "\n",
    "   Hover your mouse over the code, then press the play button <img src=\"https://raw.githubusercontent.com/HWilliams64/6-8-intro-to-python/main/img/play-button.png\" alt=\"drawing\" width=\"21\"/> to the left of the code cell."
   ]
  },
  {
   "cell_type": "code",
   "execution_count": null,
   "metadata": {},
   "outputs": [],
   "source": [
    "from ipyturtle import Turtle\n",
    "squirtle = Turtle()\n",
    "squirtle.forward(60)\n"
   ]
  },
  {
   "cell_type": "markdown",
   "metadata": {},
   "source": [
    "## How does this work?\n",
    "\n",
    "```python\n",
    "from ipyturtle import Turtle\n",
    "squirtle = Turtle()\n",
    "```\n",
    "\n",
    "Remember that the first two lines import the code we use to draw a turtle then\n",
    "we use the `Turtle()` function to create a turtle and name it `squirtle`. Let's\n",
    "learn about the next line of code.\n",
    "\n",
    "```python\n",
    "squirtle.forward(100)\n",
    "```\n",
    "\n",
    "This code tells `squirtle` to take 100 steps forward. Notice that we are using a\n",
    "function called `forward()`. This function is a little different than the\n",
    "`Turtle()` function. The `Turtle()` creates a new turtle for us and the\n",
    "`forward()` function tells the turtle to move forward 100 steps. Then number\n",
    "`100` inside the parentheses of the `forward()` function tells the forward\n",
    "function how many steps to move forward.\n",
    "\n",
    "The `forward()` function comes after squirtle because we need to tell python to\n",
    "tell squirtle to move forward. If we just wrote `forward()` with out squirtle in\n",
    "front python would not know who to tell to move forward. \n",
    "\n",
    "Squirtle and `forward()` ar separated by a period `.` because squirtle is a separate\n",
    "object from `forward()`. If we wrote `squirtleforward()`, python would try to\n",
    "invoke a function named `squirtleforward()` does not exist.\n",
    "\n",
    "### Try it out\n",
    "\n",
    "Change the code in the cell below to make squirtle move forward 50 steps.\n",
    "\n",
    "Then run the code to check it out. \n",
    "\n",
    "Next try making him move 1000 steps forward... What happens?"
   ]
  },
  {
   "cell_type": "code",
   "execution_count": null,
   "metadata": {},
   "outputs": [],
   "source": [
    "from ipyturtle import Turtle\n",
    "squirtle = Turtle()\n",
    "squirtle.forward(100)"
   ]
  },
  {
   "cell_type": "markdown",
   "metadata": {},
   "source": [
    "# More Functions\n",
    "\n",
    "Here are accouple more funcitons you can use to make squirtle do more things\n",
    "\n",
    "| Function name | Description | Example |\n",
    "|---------------| ------------|---------|\n",
    "| `forward()`  | Tells the turtle move forward the certain number of steps | `squirtle.forward(20)` |\n",
    "| `backward()`  | Tells the turtle move backwards the certain number of steps | `squirtle.backward(20)` |\n",
    "| `right()`  | Tells the turtle turn right a number of degrees | `squirtle.right(64)` |\n",
    "| `left()`  | Tells the turtle turn left a number of degrees | `squirtle.left(46)` |\n",
    "| `setpos()`  | Tells the turtle move position x, y | `squirtle.setpos(23, 32)` |\n",
    "| `home()`  | Tells the turtle go back to the place it started | `squirtle.home()` |\n",
    "| `undo()`  | Tells the turtle undo the last action it performed | `squirtle.undo()` |\n",
    "| `speed()`  | Sets the speed of the turtle. 1 is slow 100 is fastest. | `squirtle.speed(20)` |"
   ]
  }
 ],
 "metadata": {
  "kernelspec": {
   "display_name": "Python 3.8.10 ('.venv': venv)",
   "language": "python",
   "name": "python3"
  },
  "language_info": {
   "codemirror_mode": {
    "name": "ipython",
    "version": 3
   },
   "file_extension": ".py",
   "mimetype": "text/x-python",
   "name": "python",
   "nbconvert_exporter": "python",
   "pygments_lexer": "ipython3",
   "version": "3.8.10"
  },
  "orig_nbformat": 4,
  "vscode": {
   "interpreter": {
    "hash": "65d994a2586566578e6f5f03c290bfd0b2867c7905a9622796af24a8a04596a2"
   }
  }
 },
 "nbformat": 4,
 "nbformat_minor": 2
}
