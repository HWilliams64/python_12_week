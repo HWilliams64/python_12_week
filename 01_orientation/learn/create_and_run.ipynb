{
 "cells": [
  {
   "attachments": {},
   "cell_type": "markdown",
   "metadata": {},
   "source": [
    "# Overview\n",
    "\n",
    "This is brief tutorial on how to create a Python file and run it in Grader Than\n",
    "IDE"
   ]
  },
  {
   "attachments": {},
   "cell_type": "markdown",
   "metadata": {},
   "source": [
    "## Create a Python File\n",
    "\n",
    "1. To create a Python file, right-click on the blank space in project Explorer in the Grader Than IDE.\n",
    "\n",
    "    ![blank space area](https://github.com/HWilliams64/summer_python_12_week/01_orientation/img/blank_space_click.png)\n",
    "\n",
    "2. In the menu that appears select the option labled \"New File...\".\n",
    "\n",
    "3. Give the file a name with a `.py` extension, for\n",
    "example, `my_script.py`. This extension indicates that the file contains Python\n",
    "code. \n",
    "\n",
    "**WARNING:** Do not use spaces or special characters in your filename. If you\n",
    "need to separate words use underscores `_` instead of spaces."
   ]
  },
  {
   "attachments": {},
   "cell_type": "markdown",
   "metadata": {},
   "source": [
    "## Write Python Code\n",
    "\n",
    "1. Open the newly created Python file (`my_script.py`) in the VS Code editor. \n",
    "\n",
    "2. Start writing your Python code in this file. For example, you can write a\n",
    "   simple \"Hello, World!\" program. Copy the code below into you application:\n",
    "\n",
    "   ```python\n",
    "    print(\"Hello World!\")\n",
    "   ```\n"
   ]
  },
  {
   "attachments": {},
   "cell_type": "markdown",
   "metadata": {},
   "source": [
    "## Run Python File in VS Code\n",
    "\n",
    "To run the Python file click the play button in the upper right corner of the\n",
    "window. To learn more [read this tutorial](https://docs.graderthan.com/student/workspace/#run-your-code)."
   ]
  }
 ],
 "metadata": {
  "kernelspec": {
   "display_name": ".venv",
   "language": "python",
   "name": "python3"
  },
  "language_info": {
   "name": "python",
   "version": "3.8.10 (default, Nov 14 2022, 12:59:47) \n[GCC 9.4.0]"
  },
  "orig_nbformat": 4,
  "vscode": {
   "interpreter": {
    "hash": "65d994a2586566578e6f5f03c290bfd0b2867c7905a9622796af24a8a04596a2"
   }
  }
 },
 "nbformat": 4,
 "nbformat_minor": 2
}
